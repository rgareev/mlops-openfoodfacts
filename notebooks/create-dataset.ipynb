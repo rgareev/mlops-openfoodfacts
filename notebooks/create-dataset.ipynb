{
 "cells": [
  {
   "cell_type": "code",
   "execution_count": 1,
   "metadata": {},
   "outputs": [],
   "source": [
    "import os\n",
    "from pathlib import Path\n",
    "\n",
    "import pandas as pd"
   ]
  },
  {
   "cell_type": "markdown",
   "metadata": {},
   "source": [
    "## Display settings"
   ]
  },
  {
   "cell_type": "code",
   "execution_count": 2,
   "metadata": {},
   "outputs": [],
   "source": [
    "pd.options.display.max_rows = 100\n",
    "pd.options.display.max_columns = 150"
   ]
  },
  {
   "cell_type": "markdown",
   "metadata": {},
   "source": [
    "## Input configuration"
   ]
  },
  {
   "cell_type": "markdown",
   "metadata": {},
   "source": [
    "### Dataset description\n",
    "TODO"
   ]
  },
  {
   "cell_type": "code",
   "execution_count": 3,
   "metadata": {},
   "outputs": [],
   "source": [
    "# OFF ~ open food facts\n",
    "OFF_DUMP_PATH = '/Users/rgareev/data/openfoodfacts/20220831/en.openfoodfacts.org.products.csv'"
   ]
  },
  {
   "cell_type": "code",
   "execution_count": 5,
   "metadata": {},
   "outputs": [],
   "source": [
    "COLUMNS_TO_USE = [\n",
    "    'code',\n",
    "    'product_name',\n",
    "    'nova_group',\n",
    "    'ingredients_tags',\n",
    "]"
   ]
  },
  {
   "cell_type": "markdown",
   "metadata": {},
   "source": [
    "### Preprocessing configuration"
   ]
  },
  {
   "cell_type": "code",
   "execution_count": 6,
   "metadata": {},
   "outputs": [],
   "source": [
    "param_minimum_ingredient_freq = 20"
   ]
  },
  {
   "cell_type": "markdown",
   "metadata": {},
   "source": [
    "# Output configuration"
   ]
  },
  {
   "cell_type": "code",
   "execution_count": 7,
   "metadata": {},
   "outputs": [],
   "source": [
    "OUTPUT_DIR = '/Users/rgareev/data/openfoodfacts/wrk/20220831-dev'"
   ]
  },
  {
   "cell_type": "markdown",
   "metadata": {},
   "source": [
    "# Script"
   ]
  },
  {
   "cell_type": "markdown",
   "metadata": {},
   "source": [
    "## Ingest data"
   ]
  },
  {
   "cell_type": "code",
   "execution_count": 8,
   "metadata": {},
   "outputs": [
    {
     "name": "stderr",
     "output_type": "stream",
     "text": [
      "/var/folders/pz/cbnfbk_j37v9vqmn8s0t711c0000gn/T/ipykernel_73892/2724890461.py:1: DtypeWarning: Columns (0) have mixed types. Specify dtype option on import or set low_memory=False.\n",
      "  df = pd.read_csv(OFF_DUMP_PATH, sep='\\t', usecols=COLUMNS_TO_USE, index_col='code')\n"
     ]
    },
    {
     "name": "stdout",
     "output_type": "stream",
     "text": [
      "<class 'pandas.core.frame.DataFrame'>\n",
      "Index: 2508100 entries, 00000000000000225 to 999999999999999\n",
      "Data columns (total 3 columns):\n",
      " #   Column            Dtype  \n",
      "---  ------            -----  \n",
      " 0   product_name      object \n",
      " 1   ingredients_tags  object \n",
      " 2   nova_group        float64\n",
      "dtypes: float64(1), object(2)\n",
      "memory usage: 701.1 MB\n"
     ]
    }
   ],
   "source": [
    "df = pd.read_csv(OFF_DUMP_PATH, sep='\\t', usecols=COLUMNS_TO_USE, index_col='code')\n",
    "df.info(memory_usage='deep')"
   ]
  },
  {
   "cell_type": "code",
   "execution_count": 9,
   "metadata": {},
   "outputs": [
    {
     "data": {
      "text/plain": [
       "<class 'int'>    1720320\n",
       "<class 'str'>     787780\n",
       "dtype: int64"
      ]
     },
     "execution_count": 9,
     "metadata": {},
     "output_type": "execute_result"
    }
   ],
   "source": [
    "from collections import Counter\n",
    "pd.Series(type(i) for i in df.index).value_counts()"
   ]
  },
  {
   "cell_type": "code",
   "execution_count": 10,
   "metadata": {},
   "outputs": [
    {
     "data": {
      "text/plain": [
       "Index(['00000000000000225', '0000000000000207025004', '00000000000003429145',\n",
       "       '00000000000026772226', '0000000000017', '0000000000031',\n",
       "       '000000000003327986', '000000000004128579', '000000000004622327',\n",
       "       '00000000001',\n",
       "       ...\n",
       "       '9999999168505', '9999999175305', '99999995', '9999999900686',\n",
       "       '9999999901', '9999999910128', '999999999', '9999999990397',\n",
       "       '9999999999994', '999999999999999'],\n",
       "      dtype='object', name='code', length=2508100)"
      ]
     },
     "execution_count": 10,
     "metadata": {},
     "output_type": "execute_result"
    }
   ],
   "source": [
    "# for simplicity - make everything str in index\n",
    "df.set_index(df.index.astype(str), inplace=True)\n",
    "df.index"
   ]
  },
  {
   "cell_type": "markdown",
   "metadata": {},
   "source": [
    "## Preprocess data"
   ]
  },
  {
   "cell_type": "markdown",
   "metadata": {},
   "source": [
    "### Clean data"
   ]
  },
  {
   "cell_type": "code",
   "execution_count": 11,
   "metadata": {},
   "outputs": [
    {
     "data": {
      "text/plain": [
       "(676995, 3)"
      ]
     },
     "execution_count": 11,
     "metadata": {},
     "output_type": "execute_result"
    }
   ],
   "source": [
    "df.dropna(subset=['ingredients_tags', 'nova_group'], inplace=True)\n",
    "df.shape"
   ]
  },
  {
   "cell_type": "markdown",
   "metadata": {},
   "source": [
    "Convert `nova_group` (our target variable to predict) to integers"
   ]
  },
  {
   "cell_type": "code",
   "execution_count": 12,
   "metadata": {},
   "outputs": [
    {
     "data": {
      "text/plain": [
       "4.0    454546\n",
       "3.0    136087\n",
       "1.0     73371\n",
       "2.0     12991\n",
       "Name: nova_group, dtype: int64"
      ]
     },
     "execution_count": 12,
     "metadata": {},
     "output_type": "execute_result"
    }
   ],
   "source": [
    "df.nova_group.value_counts(dropna=False)"
   ]
  },
  {
   "cell_type": "code",
   "execution_count": 13,
   "metadata": {},
   "outputs": [
    {
     "data": {
      "text/plain": [
       "4    454546\n",
       "3    136087\n",
       "1     73371\n",
       "2     12991\n",
       "Name: nova_group, dtype: int64"
      ]
     },
     "execution_count": 13,
     "metadata": {},
     "output_type": "execute_result"
    }
   ],
   "source": [
    "df['nova_group'] = df['nova_group'].astype(\"int8\")\n",
    "df.nova_group.value_counts()"
   ]
  },
  {
   "cell_type": "markdown",
   "metadata": {},
   "source": [
    "Prepare ingredients attribute\n",
    "* Parse string to list\n",
    "* Remove non-english\n",
    "* Remove rare\n",
    "* Filter the dataframe records with no ingredients"
   ]
  },
  {
   "cell_type": "code",
   "execution_count": 14,
   "metadata": {},
   "outputs": [
    {
     "data": {
      "text/html": [
       "<div>\n",
       "<style scoped>\n",
       "    .dataframe tbody tr th:only-of-type {\n",
       "        vertical-align: middle;\n",
       "    }\n",
       "\n",
       "    .dataframe tbody tr th {\n",
       "        vertical-align: top;\n",
       "    }\n",
       "\n",
       "    .dataframe thead th {\n",
       "        text-align: right;\n",
       "    }\n",
       "</style>\n",
       "<table border=\"1\" class=\"dataframe\">\n",
       "  <thead>\n",
       "    <tr style=\"text-align: right;\">\n",
       "      <th></th>\n",
       "      <th>product_name</th>\n",
       "      <th>ingredients_tags</th>\n",
       "      <th>nova_group</th>\n",
       "    </tr>\n",
       "    <tr>\n",
       "      <th>code</th>\n",
       "      <th></th>\n",
       "      <th></th>\n",
       "      <th></th>\n",
       "    </tr>\n",
       "  </thead>\n",
       "  <tbody>\n",
       "    <tr>\n",
       "      <th>5035766044833</th>\n",
       "      <td>Apple cider, Elderflower</td>\n",
       "      <td>en:cider,en:alcohol,en:glucose-fructose-syrup,...</td>\n",
       "      <td>4</td>\n",
       "    </tr>\n",
       "    <tr>\n",
       "      <th>4016931020563</th>\n",
       "      <td>Hubauer ACE orange-carrot-lemon vitamindrink</td>\n",
       "      <td>en:mineral-water,en:water,en:orange-juice,en:f...</td>\n",
       "      <td>4</td>\n",
       "    </tr>\n",
       "    <tr>\n",
       "      <th>8008110259259</th>\n",
       "      <td>Chicken nuggets</td>\n",
       "      <td>en:chicken-meat,en:poultry,en:chicken,en:wheat...</td>\n",
       "      <td>4</td>\n",
       "    </tr>\n",
       "    <tr>\n",
       "      <th>4388844177314</th>\n",
       "      <td>Fettarme H-Milch</td>\n",
       "      <td>en:milk,en:dairy</td>\n",
       "      <td>1</td>\n",
       "    </tr>\n",
       "    <tr>\n",
       "      <th>7616500605671</th>\n",
       "      <td>Prestige Noir</td>\n",
       "      <td>en:sugar,en:added-sugar,en:disaccharide,en:coc...</td>\n",
       "      <td>4</td>\n",
       "    </tr>\n",
       "    <tr>\n",
       "      <th>30000561829</th>\n",
       "      <td>Dark chocolate cherry &amp; cashews nut &amp; fruit ba...</td>\n",
       "      <td>en:almond,en:nut,en:tree-nut,en:dark-chocolate...</td>\n",
       "      <td>4</td>\n",
       "    </tr>\n",
       "    <tr>\n",
       "      <th>3700662759366</th>\n",
       "      <td>Pâte à tartiner aux noisettes, chocolat noir e...</td>\n",
       "      <td>en:hazelnut,en:nut,en:tree-nut,en:dark-chocola...</td>\n",
       "      <td>3</td>\n",
       "    </tr>\n",
       "    <tr>\n",
       "      <th>3276550572039</th>\n",
       "      <td>5 pains au chocolat + 5 croissants ordinaires</td>\n",
       "      <td>fr:pains-au-chocolat,en:water,en:oil-and-fat,e...</td>\n",
       "      <td>4</td>\n",
       "    </tr>\n",
       "    <tr>\n",
       "      <th>3245412886232</th>\n",
       "      <td>Coquillettes cuisson rapide 3 minutes</td>\n",
       "      <td>en:superior-quality-durum-wheat-semolina,en:ce...</td>\n",
       "      <td>1</td>\n",
       "    </tr>\n",
       "    <tr>\n",
       "      <th>767550730756</th>\n",
       "      <td>Galactic Milk Stout</td>\n",
       "      <td>en:water,en:barley,en:cereal,en:lactose,en:oat...</td>\n",
       "      <td>4</td>\n",
       "    </tr>\n",
       "  </tbody>\n",
       "</table>\n",
       "</div>"
      ],
      "text/plain": [
       "                                                    product_name  \\\n",
       "code                                                               \n",
       "5035766044833                           Apple cider, Elderflower   \n",
       "4016931020563       Hubauer ACE orange-carrot-lemon vitamindrink   \n",
       "8008110259259                                    Chicken nuggets   \n",
       "4388844177314                                   Fettarme H-Milch   \n",
       "7616500605671                                      Prestige Noir   \n",
       "30000561829    Dark chocolate cherry & cashews nut & fruit ba...   \n",
       "3700662759366  Pâte à tartiner aux noisettes, chocolat noir e...   \n",
       "3276550572039      5 pains au chocolat + 5 croissants ordinaires   \n",
       "3245412886232              Coquillettes cuisson rapide 3 minutes   \n",
       "767550730756                                 Galactic Milk Stout   \n",
       "\n",
       "                                                ingredients_tags  nova_group  \n",
       "code                                                                          \n",
       "5035766044833  en:cider,en:alcohol,en:glucose-fructose-syrup,...           4  \n",
       "4016931020563  en:mineral-water,en:water,en:orange-juice,en:f...           4  \n",
       "8008110259259  en:chicken-meat,en:poultry,en:chicken,en:wheat...           4  \n",
       "4388844177314                                   en:milk,en:dairy           1  \n",
       "7616500605671  en:sugar,en:added-sugar,en:disaccharide,en:coc...           4  \n",
       "30000561829    en:almond,en:nut,en:tree-nut,en:dark-chocolate...           4  \n",
       "3700662759366  en:hazelnut,en:nut,en:tree-nut,en:dark-chocola...           3  \n",
       "3276550572039  fr:pains-au-chocolat,en:water,en:oil-and-fat,e...           4  \n",
       "3245412886232  en:superior-quality-durum-wheat-semolina,en:ce...           1  \n",
       "767550730756   en:water,en:barley,en:cereal,en:lactose,en:oat...           4  "
      ]
     },
     "execution_count": 14,
     "metadata": {},
     "output_type": "execute_result"
    }
   ],
   "source": [
    "df.sample(n=10)"
   ]
  },
  {
   "cell_type": "code",
   "execution_count": 15,
   "metadata": {},
   "outputs": [
    {
     "data": {
      "text/plain": [
       "code\n",
       "3222476786005    [en:wheat-flour, en:cereal, en:flour, en:wheat...\n",
       "3663787452188    [fr:aloe-vera-gel, en:fructose, en:added-sugar...\n",
       "42390831         [en:wheat-flour, en:cereal, en:flour, en:wheat...\n",
       "4388844079847    [de:zutaten, en:corn-starch, en:starch, en:cor...\n",
       "2643313039886    [en:pork-meat, en:animal, en:meat, en:pork, en...\n",
       "50428479407      [en:sugar, en:added-sugar, en:disaccharide, en...\n",
       "7616700234190    [en:wheat-flour, en:cereal, en:flour, en:wheat...\n",
       "70227504032      [en:spelt-matzo-meal, en:salt, en:onions-monoc...\n",
       "9300677007984                           [en:honey, en:added-sugar]\n",
       "38000111136      [en:puffed-rice, en:rice, en:sugar, en:added-s...\n",
       "Name: ingredients_list, dtype: object"
      ]
     },
     "execution_count": 15,
     "metadata": {},
     "output_type": "execute_result"
    }
   ],
   "source": [
    "df['ingredients_list'] = df.ingredients_tags.str.split(',')\n",
    "df.ingredients_list.sample(n=10)"
   ]
  },
  {
   "cell_type": "code",
   "execution_count": 16,
   "metadata": {},
   "outputs": [],
   "source": [
    "del df['ingredients_tags']"
   ]
  },
  {
   "cell_type": "code",
   "execution_count": 17,
   "metadata": {},
   "outputs": [],
   "source": [
    "ing_list_len_ss = df.ingredients_list.map(len)"
   ]
  },
  {
   "cell_type": "code",
   "execution_count": 18,
   "metadata": {},
   "outputs": [
    {
     "data": {
      "text/plain": [
       "count    676995.000000\n",
       "mean         26.004693\n",
       "std          20.328939\n",
       "min           1.000000\n",
       "10%           5.000000\n",
       "50%          21.000000\n",
       "90%          53.000000\n",
       "95%          66.000000\n",
       "99%          93.000000\n",
       "max         422.000000\n",
       "Name: ingredients_list, dtype: float64"
      ]
     },
     "execution_count": 18,
     "metadata": {},
     "output_type": "execute_result"
    }
   ],
   "source": [
    "ing_list_len_ss.describe(percentiles=[0.1,0.5,0.9,0.95,0.99])"
   ]
  },
  {
   "cell_type": "code",
   "execution_count": 19,
   "metadata": {},
   "outputs": [
    {
     "data": {
      "text/plain": [
       "<AxesSubplot:>"
      ]
     },
     "execution_count": 19,
     "metadata": {},
     "output_type": "execute_result"
    },
    {
     "data": {
      "image/png": "[encoded data removed]",
      "text/plain": [
       "<Figure size 640x480 with 1 Axes>"
      ]
     },
     "metadata": {},
     "output_type": "display_data"
    }
   ],
   "source": [
    "ing_list_len_ss.clip(upper=90).hist(bins=20)"
   ]
  },
  {
   "cell_type": "code",
   "execution_count": 20,
   "metadata": {},
   "outputs": [],
   "source": [
    "from collections import Counter"
   ]
  },
  {
   "cell_type": "code",
   "execution_count": 21,
   "metadata": {},
   "outputs": [
    {
     "data": {
      "text/plain": [
       "en:salt                     388509\n",
       "en:added-sugar              378285\n",
       "en:disaccharide             341857\n",
       "en:sugar                    331815\n",
       "en:flavouring               279208\n",
       "en:water                    275823\n",
       "en:oil-and-fat              269256\n",
       "en:vegetable-oil-and-fat    250294\n",
       "en:dairy                    213632\n",
       "en:vegetable                208318\n",
       "en:cereal                   205446\n",
       "en:natural-flavouring       182997\n",
       "en:vegetable-oil            174740\n",
       "en:flour                    169327\n",
       "en:root-vegetable           167690\n",
       "en:wheat                    160060\n",
       "en:starch                   159985\n",
       "en:fruit                    155962\n",
       "en:monosaccharide           147367\n",
       "en:spice                    146840\n",
       "en:condiment                139475\n",
       "en:glucose                  138180\n",
       "en:cereal-flour             137703\n",
       "en:e330                     136933\n",
       "en:milk                     131877\n",
       "en:wheat-flour              131081\n",
       "en:e322                     101932\n",
       "en:colour                    95261\n",
       "en:e322i                     93886\n",
       "en:onion                     93137\n",
       "en:garlic                    89682\n",
       "en:preservative              86205\n",
       "en:cocoa                     83317\n",
       "en:minerals                  80620\n",
       "en:seed                      79820\n",
       "en:corn-starch               79566\n",
       "en:emulsifier                77878\n",
       "en:soya-lecithin             77353\n",
       "en:yeast                     76308\n",
       "en:modified-starch           76030\n",
       "en:egg                       75461\n",
       "en:dextrose                  72893\n",
       "en:herb                      71885\n",
       "en:plant                     69205\n",
       "en:vinegar                   67495\n",
       "en:sunflower-oil             65799\n",
       "en:rapeseed-oil              64519\n",
       "en:corn-syrup                64478\n",
       "en:fruit-juice               63959\n",
       "en:e500                      63707\n",
       "dtype: int64"
      ]
     },
     "execution_count": 21,
     "metadata": {},
     "output_type": "execute_result"
    }
   ],
   "source": [
    "ing_counter = Counter(i for l in df.ingredients_list for i in l)\n",
    "ing_counter_ss = pd.Series(ing_counter).sort_values(ascending=False)\n",
    "ing_counter_ss.iloc[:50]"
   ]
  },
  {
   "cell_type": "code",
   "execution_count": 22,
   "metadata": {},
   "outputs": [
    {
     "data": {
      "text/plain": [
       "fr:ingredients                       2331\n",
       "fr:matiere-grasse-de-lait-anhydre    1651\n",
       "de:weichweizenmehl                   1379\n",
       "fr:boyau-naturel-de-porc             1359\n",
       "fr:salt                              1018\n",
       "fr:denree-alimentaire-colorante       993\n",
       "fr:couenne-de-porc                    986\n",
       "fr:water                              957\n",
       "fr:lait-ecreme-reconstitue            953\n",
       "fr:ail-seche                          936\n",
       "dtype: int64"
      ]
     },
     "execution_count": 22,
     "metadata": {},
     "output_type": "execute_result"
    }
   ],
   "source": [
    "ing_counter_ss[~ing_counter_ss.index.str.startswith('en:')].iloc[:10]"
   ]
  },
  {
   "cell_type": "code",
   "execution_count": 23,
   "metadata": {},
   "outputs": [],
   "source": [
    "df['ingredients_list'] = df['ingredients_list'].map(lambda l: [i for i in l if i.startswith('en:')])"
   ]
  },
  {
   "cell_type": "code",
   "execution_count": 24,
   "metadata": {},
   "outputs": [],
   "source": [
    "ing_counter = Counter(i for l in df.ingredients_list for i in l)\n",
    "ing_counter_ss = pd.Series(ing_counter).sort_values(ascending=False)"
   ]
  },
  {
   "cell_type": "code",
   "execution_count": 25,
   "metadata": {},
   "outputs": [
    {
     "data": {
      "text/plain": [
       "count    258320.000000\n",
       "mean         64.651378\n",
       "std        2523.171115\n",
       "min           1.000000\n",
       "50%           1.000000\n",
       "90%           4.000000\n",
       "95%          10.000000\n",
       "99%         146.810000\n",
       "max      388509.000000\n",
       "dtype: float64"
      ]
     },
     "execution_count": 25,
     "metadata": {},
     "output_type": "execute_result"
    }
   ],
   "source": [
    "ing_counter_ss.describe(percentiles=[0.5, 0.9, 0.95, 0.99])"
   ]
  },
  {
   "cell_type": "code",
   "execution_count": 26,
   "metadata": {},
   "outputs": [
    {
     "data": {
      "text/plain": [
       "(8059,)"
      ]
     },
     "execution_count": 26,
     "metadata": {},
     "output_type": "execute_result"
    }
   ],
   "source": [
    "ing_counter_ss[ing_counter_ss >= param_minimum_ingredient_freq].shape"
   ]
  },
  {
   "cell_type": "code",
   "execution_count": 27,
   "metadata": {},
   "outputs": [
    {
     "data": {
      "text/plain": [
       "8059"
      ]
     },
     "execution_count": 27,
     "metadata": {},
     "output_type": "execute_result"
    }
   ],
   "source": [
    "ingredient_set = ing_counter_ss[ing_counter_ss >= param_minimum_ingredient_freq].index\n",
    "len(ingredient_set)"
   ]
  },
  {
   "cell_type": "code",
   "execution_count": 28,
   "metadata": {},
   "outputs": [],
   "source": [
    "df['ingredients_list'] = df['ingredients_list'].map(lambda l: [i for i in l if i in ingredient_set])"
   ]
  },
  {
   "cell_type": "code",
   "execution_count": 29,
   "metadata": {},
   "outputs": [
    {
     "data": {
      "text/plain": [
       "(676995, 3)"
      ]
     },
     "execution_count": 29,
     "metadata": {},
     "output_type": "execute_result"
    }
   ],
   "source": [
    "df.shape"
   ]
  },
  {
   "cell_type": "code",
   "execution_count": 30,
   "metadata": {},
   "outputs": [
    {
     "data": {
      "text/plain": [
       "(675675, 3)"
      ]
     },
     "execution_count": 30,
     "metadata": {},
     "output_type": "execute_result"
    }
   ],
   "source": [
    "df = df[df.ingredients_list.map(lambda l: len(l) > 0)].copy()\n",
    "df.shape"
   ]
  },
  {
   "cell_type": "code",
   "execution_count": 31,
   "metadata": {},
   "outputs": [
    {
     "data": {
      "text/plain": [
       "<AxesSubplot:>"
      ]
     },
     "execution_count": 31,
     "metadata": {},
     "output_type": "execute_result"
    },
    {
     "data": {
      "image/png": "[encoded data removed]",
      "text/plain": [
       "<Figure size 640x480 with 1 Axes>"
      ]
     },
     "metadata": {},
     "output_type": "display_data"
    }
   ],
   "source": [
    "ing_list_len_ss = df.ingredients_list.map(len)\n",
    "ing_list_len_ss.hist(bins=30)"
   ]
  },
  {
   "cell_type": "code",
   "execution_count": 32,
   "metadata": {},
   "outputs": [
    {
     "data": {
      "text/plain": [
       "6059"
      ]
     },
     "execution_count": 32,
     "metadata": {},
     "output_type": "execute_result"
    }
   ],
   "source": [
    "ing_list_len_ss.value_counts()[1]"
   ]
  },
  {
   "cell_type": "code",
   "execution_count": 33,
   "metadata": {},
   "outputs": [
    {
     "data": {
      "text/html": [
       "<div>\n",
       "<style scoped>\n",
       "    .dataframe tbody tr th:only-of-type {\n",
       "        vertical-align: middle;\n",
       "    }\n",
       "\n",
       "    .dataframe tbody tr th {\n",
       "        vertical-align: top;\n",
       "    }\n",
       "\n",
       "    .dataframe thead th {\n",
       "        text-align: right;\n",
       "    }\n",
       "</style>\n",
       "<table border=\"1\" class=\"dataframe\">\n",
       "  <thead>\n",
       "    <tr style=\"text-align: right;\">\n",
       "      <th></th>\n",
       "      <th>product_name</th>\n",
       "      <th>nova_group</th>\n",
       "      <th>ingredients_list</th>\n",
       "    </tr>\n",
       "    <tr>\n",
       "      <th>code</th>\n",
       "      <th></th>\n",
       "      <th></th>\n",
       "      <th></th>\n",
       "    </tr>\n",
       "  </thead>\n",
       "  <tbody>\n",
       "    <tr>\n",
       "      <th>0733426025486</th>\n",
       "      <td>Amestec jam</td>\n",
       "      <td>4</td>\n",
       "      <td>[en:sugar, en:added-sugar, en:disaccharide, en...</td>\n",
       "    </tr>\n",
       "    <tr>\n",
       "      <th>41190463183</th>\n",
       "      <td>Shoprite, kitchen, linguine</td>\n",
       "      <td>1</td>\n",
       "      <td>[en:durum-wheat-semolina, en:cereal, en:wheat,...</td>\n",
       "    </tr>\n",
       "    <tr>\n",
       "      <th>3257984614663</th>\n",
       "      <td>Ravioli bolognaise</td>\n",
       "      <td>4</td>\n",
       "      <td>[en:water, en:ravioli, en:dough, en:pasta, en:...</td>\n",
       "    </tr>\n",
       "    <tr>\n",
       "      <th>3222474999681</th>\n",
       "      <td>Recette gourmande Minestrone</td>\n",
       "      <td>3</td>\n",
       "      <td>[en:vegetable, en:water, en:parmesan, en:dairy...</td>\n",
       "    </tr>\n",
       "    <tr>\n",
       "      <th>3770002953273</th>\n",
       "      <td>Confiture framboise épépinée</td>\n",
       "      <td>3</td>\n",
       "      <td>[en:raspberry, en:fruit, en:berries, en:sugar,...</td>\n",
       "    </tr>\n",
       "    <tr>\n",
       "      <th>21130081462</th>\n",
       "      <td>Flavored salad with chicken</td>\n",
       "      <td>4</td>\n",
       "      <td>[en:white-meat-chicken, en:green-leaf-lettuce,...</td>\n",
       "    </tr>\n",
       "    <tr>\n",
       "      <th>03186527</th>\n",
       "      <td>Juice drink from concentrate</td>\n",
       "      <td>4</td>\n",
       "      <td>[en:filtered-water, en:water, en:cranberry, en...</td>\n",
       "    </tr>\n",
       "    <tr>\n",
       "      <th>0416999764050</th>\n",
       "      <td>Beef Jerky</td>\n",
       "      <td>4</td>\n",
       "      <td>[en:beef, en:animal, en:sugar, en:added-sugar,...</td>\n",
       "    </tr>\n",
       "    <tr>\n",
       "      <th>5942289002854</th>\n",
       "      <td>Ciao Orange Juice</td>\n",
       "      <td>4</td>\n",
       "      <td>[en:water, en:sugar, en:added-sugar, en:disacc...</td>\n",
       "    </tr>\n",
       "    <tr>\n",
       "      <th>4019300005260</th>\n",
       "      <td>Exquisa</td>\n",
       "      <td>4</td>\n",
       "      <td>[en:skimmed-milk-soft-cheese, en:dairy, en:che...</td>\n",
       "    </tr>\n",
       "  </tbody>\n",
       "</table>\n",
       "</div>"
      ],
      "text/plain": [
       "                               product_name  nova_group  \\\n",
       "code                                                      \n",
       "0733426025486                   Amestec jam           4   \n",
       "41190463183     Shoprite, kitchen, linguine           1   \n",
       "3257984614663            Ravioli bolognaise           4   \n",
       "3222474999681  Recette gourmande Minestrone           3   \n",
       "3770002953273  Confiture framboise épépinée           3   \n",
       "21130081462     Flavored salad with chicken           4   \n",
       "03186527       Juice drink from concentrate           4   \n",
       "0416999764050                    Beef Jerky           4   \n",
       "5942289002854             Ciao Orange Juice           4   \n",
       "4019300005260                       Exquisa           4   \n",
       "\n",
       "                                                ingredients_list  \n",
       "code                                                              \n",
       "0733426025486  [en:sugar, en:added-sugar, en:disaccharide, en...  \n",
       "41190463183    [en:durum-wheat-semolina, en:cereal, en:wheat,...  \n",
       "3257984614663  [en:water, en:ravioli, en:dough, en:pasta, en:...  \n",
       "3222474999681  [en:vegetable, en:water, en:parmesan, en:dairy...  \n",
       "3770002953273  [en:raspberry, en:fruit, en:berries, en:sugar,...  \n",
       "21130081462    [en:white-meat-chicken, en:green-leaf-lettuce,...  \n",
       "03186527       [en:filtered-water, en:water, en:cranberry, en...  \n",
       "0416999764050  [en:beef, en:animal, en:sugar, en:added-sugar,...  \n",
       "5942289002854  [en:water, en:sugar, en:added-sugar, en:disacc...  \n",
       "4019300005260  [en:skimmed-milk-soft-cheese, en:dairy, en:che...  "
      ]
     },
     "execution_count": 33,
     "metadata": {},
     "output_type": "execute_result"
    }
   ],
   "source": [
    "df.sample(n=10)"
   ]
  },
  {
   "cell_type": "markdown",
   "metadata": {},
   "source": [
    "## Split data\n",
    "\n",
    "Split into train and test and save datasets model building pipeline inputs"
   ]
  },
  {
   "cell_type": "code",
   "execution_count": 34,
   "metadata": {},
   "outputs": [],
   "source": [
    "import numpy as np\n",
    "from sklearn.model_selection import StratifiedShuffleSplit"
   ]
  },
  {
   "cell_type": "code",
   "execution_count": 35,
   "metadata": {},
   "outputs": [],
   "source": [
    "train_test_split = StratifiedShuffleSplit(n_splits=1, test_size=0.2, random_state=42)"
   ]
  },
  {
   "cell_type": "code",
   "execution_count": 36,
   "metadata": {},
   "outputs": [],
   "source": [
    "train_indices, test_indices = next(\n",
    "    train_test_split.split(np.zeros(df.shape[0]), df.nova_group)\n",
    ")"
   ]
  },
  {
   "cell_type": "code",
   "execution_count": 37,
   "metadata": {},
   "outputs": [],
   "source": [
    "df_train = df.iloc[train_indices]\n",
    "df_test = df.iloc[test_indices]"
   ]
  },
  {
   "cell_type": "code",
   "execution_count": 38,
   "metadata": {},
   "outputs": [
    {
     "data": {
      "text/html": [
       "<div>\n",
       "<style scoped>\n",
       "    .dataframe tbody tr th:only-of-type {\n",
       "        vertical-align: middle;\n",
       "    }\n",
       "\n",
       "    .dataframe tbody tr th {\n",
       "        vertical-align: top;\n",
       "    }\n",
       "\n",
       "    .dataframe thead th {\n",
       "        text-align: right;\n",
       "    }\n",
       "</style>\n",
       "<table border=\"1\" class=\"dataframe\">\n",
       "  <thead>\n",
       "    <tr style=\"text-align: right;\">\n",
       "      <th></th>\n",
       "      <th>train</th>\n",
       "      <th>test</th>\n",
       "    </tr>\n",
       "  </thead>\n",
       "  <tbody>\n",
       "    <tr>\n",
       "      <th>4</th>\n",
       "      <td>0.670850</td>\n",
       "      <td>0.670848</td>\n",
       "    </tr>\n",
       "    <tr>\n",
       "      <th>3</th>\n",
       "      <td>0.201402</td>\n",
       "      <td>0.201399</td>\n",
       "    </tr>\n",
       "    <tr>\n",
       "      <th>1</th>\n",
       "      <td>0.108525</td>\n",
       "      <td>0.108529</td>\n",
       "    </tr>\n",
       "    <tr>\n",
       "      <th>2</th>\n",
       "      <td>0.019223</td>\n",
       "      <td>0.019225</td>\n",
       "    </tr>\n",
       "  </tbody>\n",
       "</table>\n",
       "</div>"
      ],
      "text/plain": [
       "      train      test\n",
       "4  0.670850  0.670848\n",
       "3  0.201402  0.201399\n",
       "1  0.108525  0.108529\n",
       "2  0.019223  0.019225"
      ]
     },
     "execution_count": 38,
     "metadata": {},
     "output_type": "execute_result"
    }
   ],
   "source": [
    "pd.DataFrame({\n",
    "    name : _df.nova_group.value_counts(normalize=True)\n",
    "    for name, _df in zip(['train', 'test'], [df_train, df_test])\n",
    "})"
   ]
  },
  {
   "cell_type": "code",
   "execution_count": 39,
   "metadata": {},
   "outputs": [],
   "source": [
    "def save_input_dataset(df:pd.DataFrame, out_path:Path):\n",
    "    out_path.parent.mkdir(parents=True, exist_ok=True)\n",
    "    df.to_parquet(out_path, index=True)"
   ]
  },
  {
   "cell_type": "code",
   "execution_count": 40,
   "metadata": {},
   "outputs": [],
   "source": [
    "save_input_dataset(df_train, Path(OUTPUT_DIR) / 'train.parquet')"
   ]
  },
  {
   "cell_type": "code",
   "execution_count": 41,
   "metadata": {},
   "outputs": [],
   "source": [
    "save_input_dataset(df_test, Path(OUTPUT_DIR) / 'test.parquet')"
   ]
  },
  {
   "cell_type": "code",
   "execution_count": 42,
   "metadata": {},
   "outputs": [
    {
     "name": "stdout",
     "output_type": "stream",
     "text": [
      "total 95944\n",
      "drwxr-xr-x  4 rgareev  staff   128B Sep  9 17:46 \u001b[1m\u001b[36m.\u001b[m\u001b[m\n",
      "drwxr-xr-x  4 rgareev  staff   128B Sep  9 17:46 \u001b[1m\u001b[36m..\u001b[m\u001b[m\n",
      "-rw-r--r--  1 rgareev  staff   9.5M Sep  9 17:46 test.parquet\n",
      "-rw-r--r--  1 rgareev  staff    37M Sep  9 17:46 train.parquet\n"
     ]
    }
   ],
   "source": [
    "!ls -alh $OUTPUT_DIR"
   ]
  },
  {
   "cell_type": "code",
   "execution_count": null,
   "metadata": {},
   "outputs": [],
   "source": []
  }
 ],
 "metadata": {
  "kernelspec": {
   "display_name": "mlops-openfoodfacts",
   "language": "python",
   "name": "mlops-openfoodfacts"
  },
  "language_info": {
   "name": "python",
   "version": "3.9.12"
  },
  "vscode": {
   "interpreter": {
    "hash": "386beb0265b4a6fcfedc276de81f087681b1f27100fa37e3dac5d5883caaf180"
   }
  }
 },
 "nbformat": 4,
 "nbformat_minor": 2
}
