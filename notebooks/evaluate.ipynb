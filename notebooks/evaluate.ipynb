{
 "cells": [
  {
   "cell_type": "markdown",
   "metadata": {},
   "source": [
    "# Evaluate & Register Model"
   ]
  },
  {
   "cell_type": "code",
   "execution_count": 1,
   "metadata": {},
   "outputs": [],
   "source": [
    "import ray\n",
    "import mlflow\n",
    "from sklearn import metrics"
   ]
  },
  {
   "cell_type": "code",
   "execution_count": 2,
   "metadata": {},
   "outputs": [
    {
     "data": {
      "text/plain": [
       "<Experiment: artifact_location='mlflow-artifacts:/1', experiment_id='1', lifecycle_stage='active', name='openfoodfacts-nova-dev', tags={}>"
      ]
     },
     "execution_count": 2,
     "metadata": {},
     "output_type": "execute_result"
    }
   ],
   "source": [
    "MLFLOW_TRACKING_URI = 'http://127.0.0.1:5000'\n",
    "MLFLOW_EXPERIMENT_NAME = 'openfoodfacts-nova-dev'\n",
    "\n",
    "mlflow.set_tracking_uri(MLFLOW_TRACKING_URI)\n",
    "mlflow.set_experiment(experiment_name=MLFLOW_EXPERIMENT_NAME)"
   ]
  },
  {
   "cell_type": "code",
   "execution_count": 3,
   "metadata": {},
   "outputs": [
    {
     "data": {
      "text/plain": [
       "<ActiveRun: >"
      ]
     },
     "execution_count": 3,
     "metadata": {},
     "output_type": "execute_result"
    }
   ],
   "source": [
    "mlflow.start_run(run_id='a0652b7d994e4c38b516f674289f89b0')"
   ]
  },
  {
   "cell_type": "code",
   "execution_count": 12,
   "metadata": {},
   "outputs": [],
   "source": [
    "INPUT_GROUND_TRUTH_PATH = '/Users/rgareev/data/openfoodfacts/wrk/20220831-dev/test.parquet'\n",
    "INPUT_MODEL_OUT_PATH = '/Users/rgareev/projects/mlops-openfoodfacts/wrk/testings/20220831-dev/model'\n",
    "# model name in the registry\n",
    "MODEL_NAME = 'openfoodfacts-nova-dev'"
   ]
  },
  {
   "cell_type": "code",
   "execution_count": 7,
   "metadata": {},
   "outputs": [
    {
     "name": "stderr",
     "output_type": "stream",
     "text": [
      "2022-09-11 22:08:37,370\tINFO worker.py:1509 -- Started a local Ray instance. View the dashboard at \u001b[1m\u001b[32m127.0.0.1:8267 \u001b[39m\u001b[22m\n",
      "2022-09-11 22:08:38,267\tWARNING read_api.py:291 -- ⚠️  The number of blocks in this dataset (1) limits its parallelism to 1 concurrent tasks. This is much less than the number of available CPU slots in the cluster. Use `.repartition(n)` to increase the number of dataset blocks.\n",
      "Read: 100%|██████████████████████████████████████████████████████████████████████████████████████████████████████████████████| 1/1 [00:00<00:00,  2.90it/s]\n",
      "Repartition: 100%|█████████████████████████████████████████████████████████████████████████████████████████████████████████| 10/10 [00:00<00:00, 42.07it/s]\n",
      "Read: 100%|████████████████████████████████████████████████████████████████████████████████████████████████████████████████| 10/10 [00:00<00:00, 69.93it/s]\n",
      "Repartition: 100%|████████████████████████████████████████████████████████████████████████████████████████████████████████| 10/10 [00:00<00:00, 329.53it/s]\n"
     ]
    }
   ],
   "source": [
    "truth_ds = ray.data.read_parquet(INPUT_GROUND_TRUTH_PATH).repartition(10)\n",
    "predicted_ds = ray.data.read_parquet(INPUT_MODEL_OUT_PATH).repartition(10)"
   ]
  },
  {
   "cell_type": "code",
   "execution_count": 8,
   "metadata": {},
   "outputs": [
    {
     "name": "stderr",
     "output_type": "stream",
     "text": [
      "Map_Batches: 100%|█████████████████████████████████████████████████████████████████████████████████████████████████████████| 10/10 [00:00<00:00, 95.30it/s]\n",
      "Map_Batches: 100%|████████████████████████████████████████████████████████████████████████████████████████████████████████| 10/10 [00:00<00:00, 165.43it/s]\n"
     ]
    }
   ],
   "source": [
    "eval_ds = truth_ds.drop_columns(['product_name', 'ingredients_list'])\\\n",
    "    .zip(predicted_ds.drop_columns(['product_name', 'ingredients_list']))"
   ]
  },
  {
   "cell_type": "code",
   "execution_count": 9,
   "metadata": {},
   "outputs": [
    {
     "name": "stdout",
     "output_type": "stream",
     "text": [
      "<class 'pandas.core.frame.DataFrame'>\n",
      "RangeIndex: 135135 entries, 0 to 135134\n",
      "Data columns (total 2 columns):\n",
      " #   Column       Non-Null Count   Dtype\n",
      "---  ------       --------------   -----\n",
      " 0   nova_group   135135 non-null  int8 \n",
      " 1   predictions  135135 non-null  int8 \n",
      "dtypes: int8(2)\n",
      "memory usage: 264.1 KB\n"
     ]
    }
   ],
   "source": [
    "eval_df = eval_ds.to_pandas(eval_ds.count())\n",
    "eval_df.info()"
   ]
  },
  {
   "cell_type": "code",
   "execution_count": 10,
   "metadata": {},
   "outputs": [],
   "source": [
    "y_true = eval_df.nova_group\n",
    "y_pred = eval_df.predictions\n",
    "mlflow.log_metrics({\n",
    "    'f1_' + t[0] : t[1]\n",
    "    # get F1 for each class, TODO restore labels robustly\n",
    "    for t in zip([str(l) for l in range(4)], metrics.f1_score(y_true, y_pred, average=None))\n",
    "})"
   ]
  },
  {
   "cell_type": "code",
   "execution_count": 11,
   "metadata": {},
   "outputs": [],
   "source": [
    "mlflow.log_metrics({\n",
    "    'accuracy' : metrics.accuracy_score(y_true, y_pred),\n",
    "    'f1_micro' : metrics.f1_score(y_true, y_pred, average='micro'),\n",
    "    'f1_macro' : metrics.f1_score(y_true, y_pred, average='macro')\n",
    "})"
   ]
  },
  {
   "cell_type": "code",
   "execution_count": 13,
   "metadata": {},
   "outputs": [
    {
     "name": "stderr",
     "output_type": "stream",
     "text": [
      "Successfully registered model 'openfoodfacts-nova-dev'.\n",
      "2022/09/11 22:11:58 INFO mlflow.tracking._model_registry.client: Waiting up to 300 seconds for model version to finish creation.                     Model name: openfoodfacts-nova-dev, version 1\n",
      "Created version '1' of model 'openfoodfacts-nova-dev'.\n"
     ]
    },
    {
     "data": {
      "text/plain": [
       "<ModelVersion: creation_timestamp=1662959518614, current_stage='None', description='', last_updated_timestamp=1662959518614, name='openfoodfacts-nova-dev', run_id='a0652b7d994e4c38b516f674289f89b0', run_link='', source='mlflow-artifacts:/1/a0652b7d994e4c38b516f674289f89b0/artifacts/model', status='READY', status_message='', tags={}, user_id='', version='1'>"
      ]
     },
     "execution_count": 13,
     "metadata": {},
     "output_type": "execute_result"
    }
   ],
   "source": [
    "mlflow.register_model(\n",
    "    model_uri=f'runs:/{mlflow.active_run().info.run_id}/model',\n",
    "    name=MODEL_NAME\n",
    ")"
   ]
  },
  {
   "cell_type": "code",
   "execution_count": 14,
   "metadata": {},
   "outputs": [],
   "source": [
    "mlflow.end_run()"
   ]
  }
 ],
 "metadata": {
  "kernelspec": {
   "display_name": "mlops-openfoodfacts",
   "language": "python",
   "name": "mlops-openfoodfacts"
  },
  "language_info": {
   "codemirror_mode": {
    "name": "ipython",
    "version": 3
   },
   "file_extension": ".py",
   "mimetype": "text/x-python",
   "name": "python",
   "nbconvert_exporter": "python",
   "pygments_lexer": "ipython3",
   "version": "3.9.12"
  },
  "orig_nbformat": 4
 },
 "nbformat": 4,
 "nbformat_minor": 2
}
