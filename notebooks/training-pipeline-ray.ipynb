{
 "cells": [
  {
   "cell_type": "code",
   "execution_count": 1,
   "metadata": {},
   "outputs": [],
   "source": [
    "import os\n",
    "from pathlib import Path\n",
    "\n",
    "import ray\n",
    "import pandas as pd\n",
    "import numpy as np\n",
    "\n",
    "from ray.train.sklearn import SklearnTrainer\n",
    "from ray.data import Dataset\n",
    "from ray.data.preprocessors import BatchMapper, Chain\n",
    "from ray.data.preprocessor import Preprocessor\n",
    "from ray.air.config import ScalingConfig\n",
    "\n",
    "from pprint import pprint"
   ]
  },
  {
   "cell_type": "markdown",
   "metadata": {},
   "source": [
    "# Configuration"
   ]
  },
  {
   "cell_type": "code",
   "execution_count": 2,
   "metadata": {},
   "outputs": [],
   "source": [
    "INPUT_DATA_PATH = '/Users/rgareev/data/openfoodfacts/wrk/20220831-dev/train.parquet'\n",
    "LABEL_COLUMN = 'nova_group'"
   ]
  },
  {
   "cell_type": "code",
   "execution_count": 3,
   "metadata": {},
   "outputs": [],
   "source": [
    "OUTPUT_MODEL_PATH = '/Users/rgareev/projects/mlops-openfoodfacts/wrk/trainings/20220831-dev/model'"
   ]
  },
  {
   "cell_type": "code",
   "execution_count": 4,
   "metadata": {},
   "outputs": [
    {
     "name": "stderr",
     "output_type": "stream",
     "text": [
      "2022-09-11 17:36:25,871\tINFO worker.py:1509 -- Started a local Ray instance. View the dashboard at \u001b[1m\u001b[32m127.0.0.1:8265 \u001b[39m\u001b[22m\n"
     ]
    },
    {
     "data": {
      "text/html": [
       "<div>\n",
       "    <div style=\"margin-left: 50px;display: flex;flex-direction: row;align-items: center\">\n",
       "        <h3 style=\"color: var(--jp-ui-font-color0)\">Ray</h3>\n",
       "        <svg version=\"1.1\" id=\"ray\" width=\"3em\" viewBox=\"0 0 144.5 144.6\" style=\"margin-left: 3em;margin-right: 3em\">\n",
       "            <g id=\"layer-1\">\n",
       "                <path fill=\"#00a2e9\" class=\"st0\" d=\"M97.3,77.2c-3.8-1.1-6.2,0.9-8.3,5.1c-3.5,6.8-9.9,9.9-17.4,9.6S58,88.1,54.8,81.2c-1.4-3-3-4-6.3-4.1\n",
       "                    c-5.6-0.1-9.9,0.1-13.1,6.4c-3.8,7.6-13.6,10.2-21.8,7.6C5.2,88.4-0.4,80.5,0,71.7c0.1-8.4,5.7-15.8,13.8-18.2\n",
       "                    c8.4-2.6,17.5,0.7,22.3,8c1.3,1.9,1.3,5.2,3.6,5.6c3.9,0.6,8,0.2,12,0.2c1.8,0,1.9-1.6,2.4-2.8c3.5-7.8,9.7-11.8,18-11.9\n",
       "                    c8.2-0.1,14.4,3.9,17.8,11.4c1.3,2.8,2.9,3.6,5.7,3.3c1-0.1,2,0.1,3,0c2.8-0.5,6.4,1.7,8.1-2.7s-2.3-5.5-4.1-7.5\n",
       "                    c-5.1-5.7-10.9-10.8-16.1-16.3C84,38,81.9,37.1,78,38.3C66.7,42,56.2,35.7,53,24.1C50.3,14,57.3,2.8,67.7,0.5\n",
       "                    C78.4-2,89,4.7,91.5,15.3c0.1,0.3,0.1,0.5,0.2,0.8c0.7,3.4,0.7,6.9-0.8,9.8c-1.7,3.2-0.8,5,1.5,7.2c6.7,6.5,13.3,13,19.8,19.7\n",
       "                    c1.8,1.8,3,2.1,5.5,1.2c9.1-3.4,17.9-0.6,23.4,7c4.8,6.9,4.6,16.1-0.4,22.9c-5.4,7.2-14.2,9.9-23.1,6.5c-2.3-0.9-3.5-0.6-5.1,1.1\n",
       "                    c-6.7,6.9-13.6,13.7-20.5,20.4c-1.8,1.8-2.5,3.2-1.4,5.9c3.5,8.7,0.3,18.6-7.7,23.6c-7.9,5-18.2,3.8-24.8-2.9\n",
       "                    c-6.4-6.4-7.4-16.2-2.5-24.3c4.9-7.8,14.5-11,23.1-7.8c3,1.1,4.7,0.5,6.9-1.7C91.7,98.4,98,92.3,104.2,86c1.6-1.6,4.1-2.7,2.6-6.2\n",
       "                    c-1.4-3.3-3.8-2.5-6.2-2.6C99.8,77.2,98.9,77.2,97.3,77.2z M72.1,29.7c5.5,0.1,9.9-4.3,10-9.8c0-0.1,0-0.2,0-0.3\n",
       "                    C81.8,14,77,9.8,71.5,10.2c-5,0.3-9,4.2-9.3,9.2c-0.2,5.5,4,10.1,9.5,10.3C71.8,29.7,72,29.7,72.1,29.7z M72.3,62.3\n",
       "                    c-5.4-0.1-9.9,4.2-10.1,9.7c0,0.2,0,0.3,0,0.5c0.2,5.4,4.5,9.7,9.9,10c5.1,0.1,9.9-4.7,10.1-9.8c0.2-5.5-4-10-9.5-10.3\n",
       "                    C72.6,62.3,72.4,62.3,72.3,62.3z M115,72.5c0.1,5.4,4.5,9.7,9.8,9.9c5.6-0.2,10-4.8,10-10.4c-0.2-5.4-4.6-9.7-10-9.7\n",
       "                    c-5.3-0.1-9.8,4.2-9.9,9.5C115,72.1,115,72.3,115,72.5z M19.5,62.3c-5.4,0.1-9.8,4.4-10,9.8c-0.1,5.1,5.2,10.4,10.2,10.3\n",
       "                    c5.6-0.2,10-4.9,9.8-10.5c-0.1-5.4-4.5-9.7-9.9-9.6C19.6,62.3,19.5,62.3,19.5,62.3z M71.8,134.6c5.9,0.2,10.3-3.9,10.4-9.6\n",
       "                    c0.5-5.5-3.6-10.4-9.1-10.8c-5.5-0.5-10.4,3.6-10.8,9.1c0,0.5,0,0.9,0,1.4c-0.2,5.3,4,9.8,9.3,10\n",
       "                    C71.6,134.6,71.7,134.6,71.8,134.6z\"/>\n",
       "            </g>\n",
       "        </svg>\n",
       "        <table>\n",
       "            <tr>\n",
       "                <td style=\"text-align: left\"><b>Python version:</b></td>\n",
       "                <td style=\"text-align: left\"><b>3.9.12</b></td>\n",
       "            </tr>\n",
       "            <tr>\n",
       "                <td style=\"text-align: left\"><b>Ray version:</b></td>\n",
       "                <td style=\"text-align: left\"><b> 2.0.0</b></td>\n",
       "            </tr>\n",
       "            <tr>\n",
       "    <td style=\"text-align: left\"><b>Dashboard:</b></td>\n",
       "    <td style=\"text-align: left\"><b><a href=\"http://127.0.0.1:8265\" target=\"_blank\">http://127.0.0.1:8265</a></b></td>\n",
       "</tr>\n",
       "\n",
       "        </table>\n",
       "    </div>\n",
       "</div>\n"
      ],
      "text/plain": [
       "RayContext(dashboard_url='127.0.0.1:8265', python_version='3.9.12', ray_version='2.0.0', ray_commit='cba26cc83f6b5b8a2ff166594a65cb74c0ec8740', address_info={'node_ip_address': '127.0.0.1', 'raylet_ip_address': '127.0.0.1', 'redis_address': None, 'object_store_address': '/tmp/ray/session_2022-09-11_17-36-24_020447_19026/sockets/plasma_store', 'raylet_socket_name': '/tmp/ray/session_2022-09-11_17-36-24_020447_19026/sockets/raylet', 'webui_url': '127.0.0.1:8265', 'session_dir': '/tmp/ray/session_2022-09-11_17-36-24_020447_19026', 'metrics_export_port': 56702, 'gcs_address': '127.0.0.1:57905', 'address': '127.0.0.1:57905', 'dashboard_agent_listen_port': 52365, 'node_id': 'd092818d4c3b58c5f261140b9857da7bc47910b9e13e46ac8eb93ccd'})"
      ]
     },
     "execution_count": 4,
     "metadata": {},
     "output_type": "execute_result"
    }
   ],
   "source": [
    "ray.init()"
   ]
  },
  {
   "cell_type": "code",
   "execution_count": 5,
   "metadata": {},
   "outputs": [
    {
     "data": {
      "text/plain": [
       "{'memory': 11824282010.0,\n",
       " 'node:127.0.0.1': 1.0,\n",
       " 'object_store_memory': 2147483648.0,\n",
       " 'CPU': 8.0}"
      ]
     },
     "execution_count": 5,
     "metadata": {},
     "output_type": "execute_result"
    }
   ],
   "source": [
    "ray.available_resources()"
   ]
  },
  {
   "cell_type": "markdown",
   "metadata": {},
   "source": [
    "# Script\n",
    "## Read data"
   ]
  },
  {
   "cell_type": "code",
   "execution_count": 6,
   "metadata": {},
   "outputs": [
    {
     "name": "stderr",
     "output_type": "stream",
     "text": [
      "2022-09-11 17:36:31,590\tWARNING read_api.py:291 -- ⚠️  The number of blocks in this dataset (1) limits its parallelism to 1 concurrent tasks. This is much less than the number of available CPU slots in the cluster. Use `.repartition(n)` to increase the number of dataset blocks.\n"
     ]
    }
   ],
   "source": [
    "ds = ray.data.read_parquet(INPUT_DATA_PATH)"
   ]
  },
  {
   "cell_type": "code",
   "execution_count": 7,
   "metadata": {},
   "outputs": [
    {
     "data": {
      "text/plain": [
       "product_name: string\n",
       "nova_group: int8\n",
       "ingredients_list: list<item: string>\n",
       "  child 0, item: string\n",
       "code: string\n",
       "-- schema metadata --\n",
       "pandas: '{\"index_columns\": [\"code\"], \"column_indexes\": [{\"name\": null, \"f' + 684"
      ]
     },
     "execution_count": 7,
     "metadata": {},
     "output_type": "execute_result"
    }
   ],
   "source": [
    "ds.schema()"
   ]
  },
  {
   "cell_type": "code",
   "execution_count": 8,
   "metadata": {},
   "outputs": [],
   "source": [
    "from ray.data.context import DatasetContext\n",
    "\n",
    "ctx = DatasetContext.get_current()\n",
    "ctx.enable_tensor_extension_casting = False"
   ]
  },
  {
   "cell_type": "code",
   "execution_count": 9,
   "metadata": {},
   "outputs": [
    {
     "name": "stderr",
     "output_type": "stream",
     "text": [
      "Read: 100%|██████████████████████████████████████████████████████████████████████████████████████████████████████████████████| 1/1 [00:00<00:00,  2.39it/s]\n",
      "Repartition: 100%|███████████████████████████████████████████████████████████████████████████████████████████████████████████| 5/5 [00:00<00:00, 17.94it/s]\n"
     ]
    }
   ],
   "source": [
    "ds = ds.repartition(5)"
   ]
  },
  {
   "cell_type": "markdown",
   "metadata": {},
   "source": [
    "## Convert to input format accepted by preprocessors / features generators"
   ]
  },
  {
   "cell_type": "code",
   "execution_count": 8,
   "metadata": {},
   "outputs": [],
   "source": [
    "FEATURE_COLS = ['ingredients_list']\n",
    "\n",
    "def to_model_input(df: pd.DataFrame) -> list:\n",
    "    return df[FEATURE_COLS].to_dict(orient='records')\n",
    "\n"
   ]
  },
  {
   "cell_type": "markdown",
   "metadata": {},
   "source": [
    "## Define featurizers"
   ]
  },
  {
   "cell_type": "code",
   "execution_count": 19,
   "metadata": {},
   "outputs": [
    {
     "name": "stderr",
     "output_type": "stream",
     "text": [
      "Map_Batches: 100%|███████████████████████████████████████████████████████████████████████████████████████████████████████████| 5/5 [00:01<00:00,  3.87it/s]\n"
     ]
    }
   ],
   "source": [
    "processed_ds = ds.map_batches(\n",
    "            lambda df: df[FEATURES_MULTIHOT].to_dict(orient='records'),\n",
    "            batch_size=None)"
   ]
  },
  {
   "cell_type": "code",
   "execution_count": 20,
   "metadata": {},
   "outputs": [
    {
     "data": {
      "text/plain": [
       "dict"
      ]
     },
     "execution_count": 20,
     "metadata": {},
     "output_type": "execute_result"
    }
   ],
   "source": [
    "processed_ds.schema()"
   ]
  },
  {
   "cell_type": "markdown",
   "metadata": {},
   "source": [
    "## Train and tune model"
   ]
  },
  {
   "cell_type": "code",
   "execution_count": 12,
   "metadata": {},
   "outputs": [],
   "source": [
    "# baseline\n",
    "from sklearn.naive_bayes import BernoulliNB\n",
    "from sklearn.pipeline import Pipeline\n",
    "from sklearn.feature_extraction import DictVectorizer\n",
    "from sklearn.preprocessing import FunctionTransformer\n",
    "\n",
    "FEATURE_COLS = ['ingredients_list']\n",
    "\n",
    "df_converter = FunctionTransformer(lambda X: X[FEATURE_COLS].to_dict(orient='records'))\n",
    "ingredient_encoder = DictVectorizer()\n",
    "nb_clf = BernoulliNB(binarize=None)\n",
    "sk_pipe = Pipeline([\n",
    "    ('df_converter', df_converter),\n",
    "    ('encoder', ingredient_encoder),\n",
    "    ('clf', nb_clf)\n",
    "])"
   ]
  },
  {
   "cell_type": "code",
   "execution_count": 13,
   "metadata": {},
   "outputs": [
    {
     "data": {
      "text/html": [
       "== Status ==<br>Current time: 2022-09-11 17:39:24 (running for 00:00:24.38)<br>Memory usage on this node: 13.7/24.0 GiB<br>Using FIFO scheduling algorithm.<br>Resources requested: 0/8 CPUs, 0/0 GPUs, 0.0/11.01 GiB heap, 0.0/2.0 GiB objects<br>Result logdir: /Users/rgareev/ray_results/SklearnTrainer_2022-09-11_17-38-59<br>Number of trials: 1/1 (1 TERMINATED)<br><table>\n",
       "<thead>\n",
       "<tr><th>Trial name                </th><th>status    </th><th>loc            </th><th style=\"text-align: right;\">  iter</th><th style=\"text-align: right;\">  total time (s)</th><th style=\"text-align: right;\">  fit_time</th></tr>\n",
       "</thead>\n",
       "<tbody>\n",
       "<tr><td>SklearnTrainer_4ae05_00000</td><td>TERMINATED</td><td>127.0.0.1:19217</td><td style=\"text-align: right;\">     1</td><td style=\"text-align: right;\">         23.1445</td><td style=\"text-align: right;\">   6.73823</td></tr>\n",
       "</tbody>\n",
       "</table><br><br>"
      ],
      "text/plain": [
       "<IPython.core.display.HTML object>"
      ]
     },
     "metadata": {},
     "output_type": "display_data"
    },
    {
     "name": "stderr",
     "output_type": "stream",
     "text": [
      "\u001b[2m\u001b[36m(SklearnTrainer pid=19217)\u001b[0m 2022-09-11 17:39:08,487\tWARNING pool.py:591 -- The 'context' argument is not supported using ray. Please refer to the documentation for how to control ray initialization.\n"
     ]
    },
    {
     "name": "stdout",
     "output_type": "stream",
     "text": [
      "Result for SklearnTrainer_4ae05_00000:\n",
      "  cv:\n",
      "    fit_time: [6.570423126220703, 6.808997869491577, 6.523216962814331, 6.6626482009887695,\n",
      "      6.584656000137329]\n",
      "    fit_time_mean: 6.629988431930542\n",
      "    fit_time_std: 0.10011417570422458\n",
      "    score_time: [1.5979688167572021, 1.466637134552002, 1.5029540061950684, 1.4252598285675049,\n",
      "      1.4267301559448242]\n",
      "    score_time_mean: 1.4839099884033202\n",
      "    score_time_std: 0.0638432720151937\n",
      "    test_score: [0.8784641284641285, 0.8788803788803788, 0.879009879009879, 0.8782976282976283,\n",
      "      0.8792318792318792]\n",
      "    test_score_mean: 0.8787767787767787\n",
      "    test_score_std: 0.00034627172106322605\n",
      "  date: 2022-09-11_17-39-24\n",
      "  done: false\n",
      "  experiment_id: 5791ef84cf65414ea38fd5c6d512b686\n",
      "  fit_time: 6.738233804702759\n",
      "  hostname: GRM-MacBook-Prov.local\n",
      "  iterations_since_restore: 1\n",
      "  node_ip: 127.0.0.1\n",
      "  pid: 19217\n",
      "  should_checkpoint: true\n",
      "  time_since_restore: 23.144503116607666\n",
      "  time_this_iter_s: 23.144503116607666\n",
      "  time_total_s: 23.144503116607666\n",
      "  timestamp: 1662943164\n",
      "  timesteps_since_restore: 0\n",
      "  training_iteration: 1\n",
      "  trial_id: 4ae05_00000\n",
      "  warmup_time: 0.0023870468139648438\n",
      "  \n",
      "Result for SklearnTrainer_4ae05_00000:\n",
      "  cv:\n",
      "    fit_time: [6.570423126220703, 6.808997869491577, 6.523216962814331, 6.6626482009887695,\n",
      "      6.584656000137329]\n",
      "    fit_time_mean: 6.629988431930542\n",
      "    fit_time_std: 0.10011417570422458\n",
      "    score_time: [1.5979688167572021, 1.466637134552002, 1.5029540061950684, 1.4252598285675049,\n",
      "      1.4267301559448242]\n",
      "    score_time_mean: 1.4839099884033202\n",
      "    score_time_std: 0.0638432720151937\n",
      "    test_score: [0.8784641284641285, 0.8788803788803788, 0.879009879009879, 0.8782976282976283,\n",
      "      0.8792318792318792]\n",
      "    test_score_mean: 0.8787767787767787\n",
      "    test_score_std: 0.00034627172106322605\n",
      "  date: 2022-09-11_17-39-24\n",
      "  done: true\n",
      "  experiment_id: 5791ef84cf65414ea38fd5c6d512b686\n",
      "  experiment_tag: '0'\n",
      "  fit_time: 6.738233804702759\n",
      "  hostname: GRM-MacBook-Prov.local\n",
      "  iterations_since_restore: 1\n",
      "  node_ip: 127.0.0.1\n",
      "  pid: 19217\n",
      "  should_checkpoint: true\n",
      "  time_since_restore: 23.144503116607666\n",
      "  time_this_iter_s: 23.144503116607666\n",
      "  time_total_s: 23.144503116607666\n",
      "  timestamp: 1662943164\n",
      "  timesteps_since_restore: 0\n",
      "  training_iteration: 1\n",
      "  trial_id: 4ae05_00000\n",
      "  warmup_time: 0.0023870468139648438\n",
      "  \n"
     ]
    },
    {
     "name": "stderr",
     "output_type": "stream",
     "text": [
      "\u001b[2m\u001b[36m(SklearnTrainer pid=19217)\u001b[0m /Users/rgareev/Library/Caches/pypoetry/virtualenvs/mlops-openfoodfacts-Txzs9Jr8-py3.9/lib/python3.9/site-packages/joblib/externals/loky/backend/resource_tracker.py:318: UserWarning: resource_tracker: There appear to be 1 leaked folder objects to clean up at shutdown\n",
      "\u001b[2m\u001b[36m(SklearnTrainer pid=19217)\u001b[0m   warnings.warn('resource_tracker: There appear to be %d '\n",
      "\u001b[2m\u001b[36m(SklearnTrainer pid=19217)\u001b[0m /Users/rgareev/Library/Caches/pypoetry/virtualenvs/mlops-openfoodfacts-Txzs9Jr8-py3.9/lib/python3.9/site-packages/joblib/externals/loky/backend/resource_tracker.py:333: UserWarning: resource_tracker: /var/folders/pz/cbnfbk_j37v9vqmn8s0t711c0000gn/T/joblib_memmapping_folder_19217_fba3ebd55ecd4ad49ac1d669689428f3_9e7ee6905160448cacc21d431edfeeb0: FileNotFoundError(2, 'No such file or directory')\n",
      "\u001b[2m\u001b[36m(SklearnTrainer pid=19217)\u001b[0m   warnings.warn('resource_tracker: %s: %r' % (name, e))\n",
      "2022-09-11 17:39:24,410\tINFO tune.py:758 -- Total run time: 24.48 seconds (24.37 seconds for the tuning loop).\n"
     ]
    }
   ],
   "source": [
    "trainer = SklearnTrainer(\n",
    "    estimator = sk_pipe,\n",
    "    datasets = {\n",
    "        'train' : ds,\n",
    "    },\n",
    "    label_column = LABEL_COLUMN,\n",
    "    cv = 5,\n",
    "    parallelize_cv = True,\n",
    "    scaling_config = ScalingConfig(trainer_resources = {'CPU' : 5})\n",
    ")\n",
    "\n",
    "train_result = trainer.fit()"
   ]
  },
  {
   "cell_type": "code",
   "execution_count": 14,
   "metadata": {},
   "outputs": [
    {
     "data": {
      "text/html": [
       "<div>\n",
       "<style scoped>\n",
       "    .dataframe tbody tr th:only-of-type {\n",
       "        vertical-align: middle;\n",
       "    }\n",
       "\n",
       "    .dataframe tbody tr th {\n",
       "        vertical-align: top;\n",
       "    }\n",
       "\n",
       "    .dataframe thead th {\n",
       "        text-align: right;\n",
       "    }\n",
       "</style>\n",
       "<table border=\"1\" class=\"dataframe\">\n",
       "  <thead>\n",
       "    <tr style=\"text-align: right;\">\n",
       "      <th></th>\n",
       "      <th>fit_time</th>\n",
       "      <th>time_this_iter_s</th>\n",
       "      <th>should_checkpoint</th>\n",
       "      <th>done</th>\n",
       "      <th>timesteps_total</th>\n",
       "      <th>episodes_total</th>\n",
       "      <th>training_iteration</th>\n",
       "      <th>trial_id</th>\n",
       "      <th>experiment_id</th>\n",
       "      <th>date</th>\n",
       "      <th>...</th>\n",
       "      <th>warmup_time</th>\n",
       "      <th>cv/fit_time</th>\n",
       "      <th>cv/score_time</th>\n",
       "      <th>cv/test_score</th>\n",
       "      <th>cv/fit_time_mean</th>\n",
       "      <th>cv/fit_time_std</th>\n",
       "      <th>cv/score_time_mean</th>\n",
       "      <th>cv/score_time_std</th>\n",
       "      <th>cv/test_score_mean</th>\n",
       "      <th>cv/test_score_std</th>\n",
       "    </tr>\n",
       "  </thead>\n",
       "  <tbody>\n",
       "    <tr>\n",
       "      <th>0</th>\n",
       "      <td>6.738234</td>\n",
       "      <td>23.144503</td>\n",
       "      <td>True</td>\n",
       "      <td>False</td>\n",
       "      <td>NaN</td>\n",
       "      <td>NaN</td>\n",
       "      <td>1</td>\n",
       "      <td>4ae05_00000</td>\n",
       "      <td>5791ef84cf65414ea38fd5c6d512b686</td>\n",
       "      <td>2022-09-11_17-39-24</td>\n",
       "      <td>...</td>\n",
       "      <td>0.002387</td>\n",
       "      <td>[6.57042313 6.80899787 6.52321696 6.6626482  6...</td>\n",
       "      <td>[1.59796882 1.46663713 1.50295401 1.42525983 1...</td>\n",
       "      <td>[0.87846413 0.87888038 0.87900988 0.87829763 0...</td>\n",
       "      <td>6.629988</td>\n",
       "      <td>0.100114</td>\n",
       "      <td>1.48391</td>\n",
       "      <td>0.063843</td>\n",
       "      <td>0.878777</td>\n",
       "      <td>0.000346</td>\n",
       "    </tr>\n",
       "  </tbody>\n",
       "</table>\n",
       "<p>1 rows × 28 columns</p>\n",
       "</div>"
      ],
      "text/plain": [
       "   fit_time  time_this_iter_s  should_checkpoint   done  timesteps_total  \\\n",
       "0  6.738234         23.144503               True  False              NaN   \n",
       "\n",
       "   episodes_total  training_iteration     trial_id  \\\n",
       "0             NaN                   1  4ae05_00000   \n",
       "\n",
       "                      experiment_id                 date  ...  warmup_time  \\\n",
       "0  5791ef84cf65414ea38fd5c6d512b686  2022-09-11_17-39-24  ...     0.002387   \n",
       "\n",
       "                                         cv/fit_time  \\\n",
       "0  [6.57042313 6.80899787 6.52321696 6.6626482  6...   \n",
       "\n",
       "                                       cv/score_time  \\\n",
       "0  [1.59796882 1.46663713 1.50295401 1.42525983 1...   \n",
       "\n",
       "                                       cv/test_score cv/fit_time_mean  \\\n",
       "0  [0.87846413 0.87888038 0.87900988 0.87829763 0...         6.629988   \n",
       "\n",
       "   cv/fit_time_std  cv/score_time_mean  cv/score_time_std  cv/test_score_mean  \\\n",
       "0         0.100114             1.48391           0.063843            0.878777   \n",
       "\n",
       "  cv/test_score_std  \n",
       "0          0.000346  \n",
       "\n",
       "[1 rows x 28 columns]"
      ]
     },
     "execution_count": 14,
     "metadata": {},
     "output_type": "execute_result"
    }
   ],
   "source": [
    "train_result.metrics_dataframe"
   ]
  },
  {
   "cell_type": "code",
   "execution_count": 15,
   "metadata": {},
   "outputs": [
    {
     "data": {
      "text/plain": [
       "{'cv': {'fit_time': array([6.57042313, 6.80899787, 6.52321696, 6.6626482 , 6.584656  ]),\n",
       "  'score_time': array([1.59796882, 1.46663713, 1.50295401, 1.42525983, 1.42673016]),\n",
       "  'test_score': array([0.87846413, 0.87888038, 0.87900988, 0.87829763, 0.87923188]),\n",
       "  'fit_time_mean': 6.629988431930542,\n",
       "  'fit_time_std': 0.10011417570422458,\n",
       "  'score_time_mean': 1.4839099884033202,\n",
       "  'score_time_std': 0.0638432720151937,\n",
       "  'test_score_mean': 0.8787767787767787,\n",
       "  'test_score_std': 0.00034627172106322605},\n",
       " 'fit_time': 6.738233804702759,\n",
       " 'time_this_iter_s': 23.144503116607666,\n",
       " 'should_checkpoint': True,\n",
       " 'done': True,\n",
       " 'timesteps_total': None,\n",
       " 'episodes_total': None,\n",
       " 'training_iteration': 1,\n",
       " 'trial_id': '4ae05_00000',\n",
       " 'experiment_id': '5791ef84cf65414ea38fd5c6d512b686',\n",
       " 'date': '2022-09-11_17-39-24',\n",
       " 'timestamp': 1662943164,\n",
       " 'time_total_s': 23.144503116607666,\n",
       " 'pid': 19217,\n",
       " 'hostname': 'GRM-MacBook-Prov.local',\n",
       " 'node_ip': '127.0.0.1',\n",
       " 'config': {},\n",
       " 'time_since_restore': 23.144503116607666,\n",
       " 'timesteps_since_restore': 0,\n",
       " 'iterations_since_restore': 1,\n",
       " 'warmup_time': 0.0023870468139648438,\n",
       " 'experiment_tag': '0'}"
      ]
     },
     "execution_count": 15,
     "metadata": {},
     "output_type": "execute_result"
    }
   ],
   "source": [
    "train_result.metrics"
   ]
  },
  {
   "cell_type": "code",
   "execution_count": 16,
   "metadata": {},
   "outputs": [
    {
     "data": {
      "text/plain": [
       "Checkpoint(local_path=/Users/rgareev/ray_results/SklearnTrainer_2022-09-11_17-38-59/SklearnTrainer_4ae05_00000_0_2022-09-11_17-39-00/checkpoint_000001)"
      ]
     },
     "execution_count": 16,
     "metadata": {},
     "output_type": "execute_result"
    }
   ],
   "source": [
    "train_result.checkpoint"
   ]
  },
  {
   "cell_type": "code",
   "execution_count": 17,
   "metadata": {},
   "outputs": [
    {
     "data": {
      "text/plain": [
       "'/Users/rgareev/projects/mlops-openfoodfacts/wrk/trainings/20220831-dev/model'"
      ]
     },
     "execution_count": 17,
     "metadata": {},
     "output_type": "execute_result"
    }
   ],
   "source": [
    "train_result.checkpoint.to_directory(OUTPUT_MODEL_PATH)"
   ]
  },
  {
   "cell_type": "code",
   "execution_count": 41,
   "metadata": {},
   "outputs": [],
   "source": [
    "# TODO register experiment metrics"
   ]
  },
  {
   "cell_type": "markdown",
   "metadata": {},
   "source": []
  }
 ],
 "metadata": {
  "kernelspec": {
   "display_name": "mlops-openfoodfacts",
   "language": "python",
   "name": "mlops-openfoodfacts"
  },
  "language_info": {
   "codemirror_mode": {
    "name": "ipython",
    "version": 3
   },
   "file_extension": ".py",
   "mimetype": "text/x-python",
   "name": "python",
   "nbconvert_exporter": "python",
   "pygments_lexer": "ipython3",
   "version": "3.9.12"
  },
  "orig_nbformat": 4
 },
 "nbformat": 4,
 "nbformat_minor": 2
}
