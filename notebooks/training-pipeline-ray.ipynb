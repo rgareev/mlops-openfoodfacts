{
 "cells": [
  {
   "cell_type": "code",
   "execution_count": 20,
   "metadata": {},
   "outputs": [],
   "source": [
    "import os\n",
    "from pathlib import Path\n",
    "\n",
    "import ray\n",
    "import pandas as pd\n",
    "import numpy as np\n",
    "\n",
    "from ray.train.sklearn import SklearnTrainer\n",
    "from ray.data import Dataset\n",
    "from ray.data.preprocessors import BatchMapper, Chain\n",
    "from ray.data.preprocessor import Preprocessor\n",
    "from ray.air.config import ScalingConfig\n",
    "from ray.train.sklearn import SklearnCheckpoint\n",
    "\n",
    "import mlflow\n",
    "\n",
    "from pprint import pprint"
   ]
  },
  {
   "cell_type": "markdown",
   "metadata": {},
   "source": [
    "# Configuration"
   ]
  },
  {
   "cell_type": "code",
   "execution_count": 4,
   "metadata": {},
   "outputs": [
    {
     "data": {
      "text/plain": [
       "<Experiment: artifact_location='mlflow-artifacts:/1', experiment_id='1', lifecycle_stage='active', name='openfoodfacts-nova-dev', tags={}>"
      ]
     },
     "execution_count": 4,
     "metadata": {},
     "output_type": "execute_result"
    }
   ],
   "source": [
    "MLFLOW_TRACKING_URI = 'http://127.0.0.1:5000'\n",
    "MLFLOW_EXPERIMENT_NAME = 'openfoodfacts-nova-dev'\n",
    "\n",
    "mlflow.set_tracking_uri(MLFLOW_TRACKING_URI)\n",
    "mlflow.set_experiment(MLFLOW_EXPERIMENT_NAME)"
   ]
  },
  {
   "cell_type": "code",
   "execution_count": 5,
   "metadata": {},
   "outputs": [],
   "source": [
    "INPUT_DATA_PATH = '/Users/rgareev/data/openfoodfacts/wrk/20220831-dev/train.parquet'\n",
    "LABEL_COLUMN = 'nova_group'"
   ]
  },
  {
   "cell_type": "code",
   "execution_count": 6,
   "metadata": {},
   "outputs": [],
   "source": [
    "OUTPUT_MODEL_PATH = '/Users/rgareev/projects/mlops-openfoodfacts/wrk/trainings/20220831-dev/model'"
   ]
  },
  {
   "cell_type": "code",
   "execution_count": 7,
   "metadata": {},
   "outputs": [
    {
     "name": "stderr",
     "output_type": "stream",
     "text": [
      "2022-09-11 21:16:32,988\tINFO worker.py:1509 -- Started a local Ray instance. View the dashboard at \u001b[1m\u001b[32m127.0.0.1:8265 \u001b[39m\u001b[22m\n"
     ]
    },
    {
     "data": {
      "text/html": [
       "<div>\n",
       "    <div style=\"margin-left: 50px;display: flex;flex-direction: row;align-items: center\">\n",
       "        <h3 style=\"color: var(--jp-ui-font-color0)\">Ray</h3>\n",
       "        <svg version=\"1.1\" id=\"ray\" width=\"3em\" viewBox=\"0 0 144.5 144.6\" style=\"margin-left: 3em;margin-right: 3em\">\n",
       "            <g id=\"layer-1\">\n",
       "                <path fill=\"#00a2e9\" class=\"st0\" d=\"M97.3,77.2c-3.8-1.1-6.2,0.9-8.3,5.1c-3.5,6.8-9.9,9.9-17.4,9.6S58,88.1,54.8,81.2c-1.4-3-3-4-6.3-4.1\n",
       "                    c-5.6-0.1-9.9,0.1-13.1,6.4c-3.8,7.6-13.6,10.2-21.8,7.6C5.2,88.4-0.4,80.5,0,71.7c0.1-8.4,5.7-15.8,13.8-18.2\n",
       "                    c8.4-2.6,17.5,0.7,22.3,8c1.3,1.9,1.3,5.2,3.6,5.6c3.9,0.6,8,0.2,12,0.2c1.8,0,1.9-1.6,2.4-2.8c3.5-7.8,9.7-11.8,18-11.9\n",
       "                    c8.2-0.1,14.4,3.9,17.8,11.4c1.3,2.8,2.9,3.6,5.7,3.3c1-0.1,2,0.1,3,0c2.8-0.5,6.4,1.7,8.1-2.7s-2.3-5.5-4.1-7.5\n",
       "                    c-5.1-5.7-10.9-10.8-16.1-16.3C84,38,81.9,37.1,78,38.3C66.7,42,56.2,35.7,53,24.1C50.3,14,57.3,2.8,67.7,0.5\n",
       "                    C78.4-2,89,4.7,91.5,15.3c0.1,0.3,0.1,0.5,0.2,0.8c0.7,3.4,0.7,6.9-0.8,9.8c-1.7,3.2-0.8,5,1.5,7.2c6.7,6.5,13.3,13,19.8,19.7\n",
       "                    c1.8,1.8,3,2.1,5.5,1.2c9.1-3.4,17.9-0.6,23.4,7c4.8,6.9,4.6,16.1-0.4,22.9c-5.4,7.2-14.2,9.9-23.1,6.5c-2.3-0.9-3.5-0.6-5.1,1.1\n",
       "                    c-6.7,6.9-13.6,13.7-20.5,20.4c-1.8,1.8-2.5,3.2-1.4,5.9c3.5,8.7,0.3,18.6-7.7,23.6c-7.9,5-18.2,3.8-24.8-2.9\n",
       "                    c-6.4-6.4-7.4-16.2-2.5-24.3c4.9-7.8,14.5-11,23.1-7.8c3,1.1,4.7,0.5,6.9-1.7C91.7,98.4,98,92.3,104.2,86c1.6-1.6,4.1-2.7,2.6-6.2\n",
       "                    c-1.4-3.3-3.8-2.5-6.2-2.6C99.8,77.2,98.9,77.2,97.3,77.2z M72.1,29.7c5.5,0.1,9.9-4.3,10-9.8c0-0.1,0-0.2,0-0.3\n",
       "                    C81.8,14,77,9.8,71.5,10.2c-5,0.3-9,4.2-9.3,9.2c-0.2,5.5,4,10.1,9.5,10.3C71.8,29.7,72,29.7,72.1,29.7z M72.3,62.3\n",
       "                    c-5.4-0.1-9.9,4.2-10.1,9.7c0,0.2,0,0.3,0,0.5c0.2,5.4,4.5,9.7,9.9,10c5.1,0.1,9.9-4.7,10.1-9.8c0.2-5.5-4-10-9.5-10.3\n",
       "                    C72.6,62.3,72.4,62.3,72.3,62.3z M115,72.5c0.1,5.4,4.5,9.7,9.8,9.9c5.6-0.2,10-4.8,10-10.4c-0.2-5.4-4.6-9.7-10-9.7\n",
       "                    c-5.3-0.1-9.8,4.2-9.9,9.5C115,72.1,115,72.3,115,72.5z M19.5,62.3c-5.4,0.1-9.8,4.4-10,9.8c-0.1,5.1,5.2,10.4,10.2,10.3\n",
       "                    c5.6-0.2,10-4.9,9.8-10.5c-0.1-5.4-4.5-9.7-9.9-9.6C19.6,62.3,19.5,62.3,19.5,62.3z M71.8,134.6c5.9,0.2,10.3-3.9,10.4-9.6\n",
       "                    c0.5-5.5-3.6-10.4-9.1-10.8c-5.5-0.5-10.4,3.6-10.8,9.1c0,0.5,0,0.9,0,1.4c-0.2,5.3,4,9.8,9.3,10\n",
       "                    C71.6,134.6,71.7,134.6,71.8,134.6z\"/>\n",
       "            </g>\n",
       "        </svg>\n",
       "        <table>\n",
       "            <tr>\n",
       "                <td style=\"text-align: left\"><b>Python version:</b></td>\n",
       "                <td style=\"text-align: left\"><b>3.9.12</b></td>\n",
       "            </tr>\n",
       "            <tr>\n",
       "                <td style=\"text-align: left\"><b>Ray version:</b></td>\n",
       "                <td style=\"text-align: left\"><b> 2.0.0</b></td>\n",
       "            </tr>\n",
       "            <tr>\n",
       "    <td style=\"text-align: left\"><b>Dashboard:</b></td>\n",
       "    <td style=\"text-align: left\"><b><a href=\"http://127.0.0.1:8265\" target=\"_blank\">http://127.0.0.1:8265</a></b></td>\n",
       "</tr>\n",
       "\n",
       "        </table>\n",
       "    </div>\n",
       "</div>\n"
      ],
      "text/plain": [
       "RayContext(dashboard_url='127.0.0.1:8265', python_version='3.9.12', ray_version='2.0.0', ray_commit='cba26cc83f6b5b8a2ff166594a65cb74c0ec8740', address_info={'node_ip_address': '127.0.0.1', 'raylet_ip_address': '127.0.0.1', 'redis_address': None, 'object_store_address': '/tmp/ray/session_2022-09-11_21-16-30_075442_31952/sockets/plasma_store', 'raylet_socket_name': '/tmp/ray/session_2022-09-11_21-16-30_075442_31952/sockets/raylet', 'webui_url': '127.0.0.1:8265', 'session_dir': '/tmp/ray/session_2022-09-11_21-16-30_075442_31952', 'metrics_export_port': 61365, 'gcs_address': '127.0.0.1:65296', 'address': '127.0.0.1:65296', 'dashboard_agent_listen_port': 52365, 'node_id': '3151f718241efe4ee340c6f412d20d4829e6135205f01c342ffe0ae5'})"
      ]
     },
     "execution_count": 7,
     "metadata": {},
     "output_type": "execute_result"
    }
   ],
   "source": [
    "ray.init()"
   ]
  },
  {
   "cell_type": "code",
   "execution_count": 8,
   "metadata": {},
   "outputs": [
    {
     "data": {
      "text/plain": [
       "{'object_store_memory': 2147483648.0,\n",
       " 'CPU': 8.0,\n",
       " 'memory': 12221115597.0,\n",
       " 'node:127.0.0.1': 1.0}"
      ]
     },
     "execution_count": 8,
     "metadata": {},
     "output_type": "execute_result"
    }
   ],
   "source": [
    "ray.available_resources()"
   ]
  },
  {
   "cell_type": "markdown",
   "metadata": {},
   "source": [
    "# Script\n",
    "## Read data"
   ]
  },
  {
   "cell_type": "code",
   "execution_count": 9,
   "metadata": {},
   "outputs": [
    {
     "data": {
      "text/plain": [
       "'a0652b7d994e4c38b516f674289f89b0'"
      ]
     },
     "execution_count": 9,
     "metadata": {},
     "output_type": "execute_result"
    }
   ],
   "source": [
    "mlflow.start_run()\n",
    "\n",
    "mlflow.active_run().info.run_id"
   ]
  },
  {
   "cell_type": "code",
   "execution_count": 10,
   "metadata": {},
   "outputs": [
    {
     "name": "stderr",
     "output_type": "stream",
     "text": [
      "2022-09-11 21:17:32,901\tWARNING read_api.py:291 -- ⚠️  The number of blocks in this dataset (1) limits its parallelism to 1 concurrent tasks. This is much less than the number of available CPU slots in the cluster. Use `.repartition(n)` to increase the number of dataset blocks.\n"
     ]
    }
   ],
   "source": [
    "ds = ray.data.read_parquet(INPUT_DATA_PATH)"
   ]
  },
  {
   "cell_type": "code",
   "execution_count": 11,
   "metadata": {},
   "outputs": [
    {
     "data": {
      "text/plain": [
       "product_name: string\n",
       "nova_group: int8\n",
       "ingredients_list: list<item: string>\n",
       "  child 0, item: string\n",
       "code: string\n",
       "-- schema metadata --\n",
       "pandas: '{\"index_columns\": [\"code\"], \"column_indexes\": [{\"name\": null, \"f' + 684"
      ]
     },
     "execution_count": 11,
     "metadata": {},
     "output_type": "execute_result"
    }
   ],
   "source": [
    "ds.schema()"
   ]
  },
  {
   "cell_type": "code",
   "execution_count": 12,
   "metadata": {},
   "outputs": [],
   "source": [
    "from ray.data.context import DatasetContext\n",
    "\n",
    "ctx = DatasetContext.get_current()\n",
    "ctx.enable_tensor_extension_casting = False"
   ]
  },
  {
   "cell_type": "code",
   "execution_count": 13,
   "metadata": {},
   "outputs": [
    {
     "name": "stderr",
     "output_type": "stream",
     "text": [
      "Read: 100%|██████████████████████████████████████████████████████████████████████████████████████████████████████████████████| 1/1 [00:00<00:00,  2.16it/s]\n",
      "Repartition: 100%|███████████████████████████████████████████████████████████████████████████████████████████████████████████| 5/5 [00:00<00:00, 17.14it/s]\n"
     ]
    }
   ],
   "source": [
    "ds = ds.repartition(5)"
   ]
  },
  {
   "cell_type": "markdown",
   "metadata": {},
   "source": [
    "## Train and tune model"
   ]
  },
  {
   "cell_type": "code",
   "execution_count": 14,
   "metadata": {},
   "outputs": [],
   "source": [
    "# baseline\n",
    "from sklearn.naive_bayes import BernoulliNB\n",
    "from sklearn.pipeline import Pipeline\n",
    "from sklearn.feature_extraction import DictVectorizer\n",
    "from sklearn.preprocessing import FunctionTransformer\n",
    "\n",
    "FEATURE_COLS = ['ingredients_list']\n",
    "\n",
    "df_converter = FunctionTransformer(lambda X: X[FEATURE_COLS].to_dict(orient='records'))\n",
    "ingredient_encoder = DictVectorizer()\n",
    "nb_clf = BernoulliNB(binarize=None)\n",
    "sk_pipe = Pipeline([\n",
    "    ('df_converter', df_converter),\n",
    "    ('encoder', ingredient_encoder),\n",
    "    ('clf', nb_clf)\n",
    "])"
   ]
  },
  {
   "cell_type": "code",
   "execution_count": 15,
   "metadata": {},
   "outputs": [
    {
     "data": {
      "text/html": [
       "== Status ==<br>Current time: 2022-09-11 21:18:15 (running for 00:00:26.27)<br>Memory usage on this node: 15.9/24.0 GiB<br>Using FIFO scheduling algorithm.<br>Resources requested: 0/8 CPUs, 0/0 GPUs, 0.0/11.38 GiB heap, 0.0/2.0 GiB objects<br>Result logdir: /Users/rgareev/ray_results/SklearnTrainer_2022-09-11_21-17-48<br>Number of trials: 1/1 (1 TERMINATED)<br><table>\n",
       "<thead>\n",
       "<tr><th>Trial name                </th><th>status    </th><th>loc            </th><th style=\"text-align: right;\">  iter</th><th style=\"text-align: right;\">  total time (s)</th><th style=\"text-align: right;\">  fit_time</th></tr>\n",
       "</thead>\n",
       "<tbody>\n",
       "<tr><td>SklearnTrainer_dc4ef_00000</td><td>TERMINATED</td><td>127.0.0.1:32106</td><td style=\"text-align: right;\">     1</td><td style=\"text-align: right;\">         24.6819</td><td style=\"text-align: right;\">   6.70998</td></tr>\n",
       "</tbody>\n",
       "</table><br><br>"
      ],
      "text/plain": [
       "<IPython.core.display.HTML object>"
      ]
     },
     "metadata": {},
     "output_type": "display_data"
    },
    {
     "name": "stderr",
     "output_type": "stream",
     "text": [
      "\u001b[2m\u001b[36m(SklearnTrainer pid=32106)\u001b[0m 2022-09-11 21:17:57,691\tWARNING pool.py:591 -- The 'context' argument is not supported using ray. Please refer to the documentation for how to control ray initialization.\n"
     ]
    },
    {
     "name": "stdout",
     "output_type": "stream",
     "text": [
      "Result for SklearnTrainer_dc4ef_00000:\n",
      "  cv:\n",
      "    fit_time: [7.80651593208313, 7.634344816207886, 7.800932884216309, 7.588690280914307,\n",
      "      7.8246169090271]\n",
      "    fit_time_mean: 7.731020164489746\n",
      "    fit_time_std: 0.0989461152507635\n",
      "    score_time: [1.689162015914917, 1.6113872528076172, 1.6546552181243896, 1.6345617771148682,\n",
      "      1.4822258949279785]\n",
      "    score_time_mean: 1.614398431777954\n",
      "    score_time_std: 0.07084547910949929\n",
      "    test_score: [0.8784641284641285, 0.8788803788803788, 0.879009879009879, 0.8782976282976283,\n",
      "      0.8792318792318792]\n",
      "    test_score_mean: 0.8787767787767787\n",
      "    test_score_std: 0.00034627172106322605\n",
      "  date: 2022-09-11_21-18-15\n",
      "  done: false\n",
      "  experiment_id: cf367dc7e0d74e3d99f5bba4a91c4675\n",
      "  fit_time: 6.709980249404907\n",
      "  hostname: GRM-MacBook-Prov.local\n",
      "  iterations_since_restore: 1\n",
      "  node_ip: 127.0.0.1\n",
      "  pid: 32106\n",
      "  should_checkpoint: true\n",
      "  time_since_restore: 24.681931972503662\n",
      "  time_this_iter_s: 24.681931972503662\n",
      "  time_total_s: 24.681931972503662\n",
      "  timestamp: 1662956295\n",
      "  timesteps_since_restore: 0\n",
      "  training_iteration: 1\n",
      "  trial_id: dc4ef_00000\n",
      "  warmup_time: 0.00244903564453125\n",
      "  \n",
      "Result for SklearnTrainer_dc4ef_00000:\n",
      "  cv:\n",
      "    fit_time: [7.80651593208313, 7.634344816207886, 7.800932884216309, 7.588690280914307,\n",
      "      7.8246169090271]\n",
      "    fit_time_mean: 7.731020164489746\n",
      "    fit_time_std: 0.0989461152507635\n",
      "    score_time: [1.689162015914917, 1.6113872528076172, 1.6546552181243896, 1.6345617771148682,\n",
      "      1.4822258949279785]\n",
      "    score_time_mean: 1.614398431777954\n",
      "    score_time_std: 0.07084547910949929\n",
      "    test_score: [0.8784641284641285, 0.8788803788803788, 0.879009879009879, 0.8782976282976283,\n",
      "      0.8792318792318792]\n",
      "    test_score_mean: 0.8787767787767787\n",
      "    test_score_std: 0.00034627172106322605\n",
      "  date: 2022-09-11_21-18-15\n",
      "  done: true\n",
      "  experiment_id: cf367dc7e0d74e3d99f5bba4a91c4675\n",
      "  experiment_tag: '0'\n",
      "  fit_time: 6.709980249404907\n",
      "  hostname: GRM-MacBook-Prov.local\n",
      "  iterations_since_restore: 1\n",
      "  node_ip: 127.0.0.1\n",
      "  pid: 32106\n",
      "  should_checkpoint: true\n",
      "  time_since_restore: 24.681931972503662\n",
      "  time_this_iter_s: 24.681931972503662\n",
      "  time_total_s: 24.681931972503662\n",
      "  timestamp: 1662956295\n",
      "  timesteps_since_restore: 0\n",
      "  training_iteration: 1\n",
      "  trial_id: dc4ef_00000\n",
      "  warmup_time: 0.00244903564453125\n",
      "  \n"
     ]
    },
    {
     "name": "stderr",
     "output_type": "stream",
     "text": [
      "2022-09-11 21:18:15,228\tINFO tune.py:758 -- Total run time: 26.41 seconds (26.27 seconds for the tuning loop).\n",
      "\u001b[2m\u001b[36m(SklearnTrainer pid=32106)\u001b[0m /Users/rgareev/Library/Caches/pypoetry/virtualenvs/mlops-openfoodfacts-Txzs9Jr8-py3.9/lib/python3.9/site-packages/joblib/externals/loky/backend/resource_tracker.py:318: UserWarning: resource_tracker: There appear to be 1 leaked folder objects to clean up at shutdown\n",
      "\u001b[2m\u001b[36m(SklearnTrainer pid=32106)\u001b[0m   warnings.warn('resource_tracker: There appear to be %d '\n",
      "\u001b[2m\u001b[36m(SklearnTrainer pid=32106)\u001b[0m /Users/rgareev/Library/Caches/pypoetry/virtualenvs/mlops-openfoodfacts-Txzs9Jr8-py3.9/lib/python3.9/site-packages/joblib/externals/loky/backend/resource_tracker.py:333: UserWarning: resource_tracker: /var/folders/pz/cbnfbk_j37v9vqmn8s0t711c0000gn/T/joblib_memmapping_folder_32106_8b36e84f05944ea98f5514511089c5a4_38c2e28cbf9842bf89bf862458a4d511: FileNotFoundError(2, 'No such file or directory')\n",
      "\u001b[2m\u001b[36m(SklearnTrainer pid=32106)\u001b[0m   warnings.warn('resource_tracker: %s: %r' % (name, e))\n"
     ]
    }
   ],
   "source": [
    "trainer = SklearnTrainer(\n",
    "    estimator = sk_pipe,\n",
    "    datasets = {\n",
    "        'train' : ds,\n",
    "    },\n",
    "    label_column = LABEL_COLUMN,\n",
    "    cv = 5,\n",
    "    parallelize_cv = True,\n",
    "    scaling_config = ScalingConfig(trainer_resources = {'CPU' : 5})\n",
    ")\n",
    "\n",
    "train_result = trainer.fit()"
   ]
  },
  {
   "cell_type": "code",
   "execution_count": 16,
   "metadata": {},
   "outputs": [
    {
     "data": {
      "text/html": [
       "<div>\n",
       "<style scoped>\n",
       "    .dataframe tbody tr th:only-of-type {\n",
       "        vertical-align: middle;\n",
       "    }\n",
       "\n",
       "    .dataframe tbody tr th {\n",
       "        vertical-align: top;\n",
       "    }\n",
       "\n",
       "    .dataframe thead th {\n",
       "        text-align: right;\n",
       "    }\n",
       "</style>\n",
       "<table border=\"1\" class=\"dataframe\">\n",
       "  <thead>\n",
       "    <tr style=\"text-align: right;\">\n",
       "      <th></th>\n",
       "      <th>fit_time</th>\n",
       "      <th>time_this_iter_s</th>\n",
       "      <th>should_checkpoint</th>\n",
       "      <th>done</th>\n",
       "      <th>timesteps_total</th>\n",
       "      <th>episodes_total</th>\n",
       "      <th>training_iteration</th>\n",
       "      <th>trial_id</th>\n",
       "      <th>experiment_id</th>\n",
       "      <th>date</th>\n",
       "      <th>...</th>\n",
       "      <th>warmup_time</th>\n",
       "      <th>cv/fit_time</th>\n",
       "      <th>cv/score_time</th>\n",
       "      <th>cv/test_score</th>\n",
       "      <th>cv/fit_time_mean</th>\n",
       "      <th>cv/fit_time_std</th>\n",
       "      <th>cv/score_time_mean</th>\n",
       "      <th>cv/score_time_std</th>\n",
       "      <th>cv/test_score_mean</th>\n",
       "      <th>cv/test_score_std</th>\n",
       "    </tr>\n",
       "  </thead>\n",
       "  <tbody>\n",
       "    <tr>\n",
       "      <th>0</th>\n",
       "      <td>6.70998</td>\n",
       "      <td>24.681932</td>\n",
       "      <td>True</td>\n",
       "      <td>False</td>\n",
       "      <td>NaN</td>\n",
       "      <td>NaN</td>\n",
       "      <td>1</td>\n",
       "      <td>dc4ef_00000</td>\n",
       "      <td>cf367dc7e0d74e3d99f5bba4a91c4675</td>\n",
       "      <td>2022-09-11_21-18-15</td>\n",
       "      <td>...</td>\n",
       "      <td>0.002449</td>\n",
       "      <td>[7.80651593 7.63434482 7.80093288 7.58869028 7...</td>\n",
       "      <td>[1.68916202 1.61138725 1.65465522 1.63456178 1...</td>\n",
       "      <td>[0.87846413 0.87888038 0.87900988 0.87829763 0...</td>\n",
       "      <td>7.73102</td>\n",
       "      <td>0.098946</td>\n",
       "      <td>1.614398</td>\n",
       "      <td>0.070845</td>\n",
       "      <td>0.878777</td>\n",
       "      <td>0.000346</td>\n",
       "    </tr>\n",
       "  </tbody>\n",
       "</table>\n",
       "<p>1 rows × 28 columns</p>\n",
       "</div>"
      ],
      "text/plain": [
       "   fit_time  time_this_iter_s  should_checkpoint   done  timesteps_total  \\\n",
       "0   6.70998         24.681932               True  False              NaN   \n",
       "\n",
       "   episodes_total  training_iteration     trial_id  \\\n",
       "0             NaN                   1  dc4ef_00000   \n",
       "\n",
       "                      experiment_id                 date  ...  warmup_time  \\\n",
       "0  cf367dc7e0d74e3d99f5bba4a91c4675  2022-09-11_21-18-15  ...     0.002449   \n",
       "\n",
       "                                         cv/fit_time  \\\n",
       "0  [7.80651593 7.63434482 7.80093288 7.58869028 7...   \n",
       "\n",
       "                                       cv/score_time  \\\n",
       "0  [1.68916202 1.61138725 1.65465522 1.63456178 1...   \n",
       "\n",
       "                                       cv/test_score cv/fit_time_mean  \\\n",
       "0  [0.87846413 0.87888038 0.87900988 0.87829763 0...          7.73102   \n",
       "\n",
       "   cv/fit_time_std  cv/score_time_mean  cv/score_time_std  cv/test_score_mean  \\\n",
       "0         0.098946            1.614398           0.070845            0.878777   \n",
       "\n",
       "  cv/test_score_std  \n",
       "0          0.000346  \n",
       "\n",
       "[1 rows x 28 columns]"
      ]
     },
     "execution_count": 16,
     "metadata": {},
     "output_type": "execute_result"
    }
   ],
   "source": [
    "train_result.metrics_dataframe"
   ]
  },
  {
   "cell_type": "code",
   "execution_count": 17,
   "metadata": {},
   "outputs": [
    {
     "data": {
      "text/plain": [
       "{'cv': {'fit_time': array([7.80651593, 7.63434482, 7.80093288, 7.58869028, 7.82461691]),\n",
       "  'score_time': array([1.68916202, 1.61138725, 1.65465522, 1.63456178, 1.48222589]),\n",
       "  'test_score': array([0.87846413, 0.87888038, 0.87900988, 0.87829763, 0.87923188]),\n",
       "  'fit_time_mean': 7.731020164489746,\n",
       "  'fit_time_std': 0.0989461152507635,\n",
       "  'score_time_mean': 1.614398431777954,\n",
       "  'score_time_std': 0.07084547910949929,\n",
       "  'test_score_mean': 0.8787767787767787,\n",
       "  'test_score_std': 0.00034627172106322605},\n",
       " 'fit_time': 6.709980249404907,\n",
       " 'time_this_iter_s': 24.681931972503662,\n",
       " 'should_checkpoint': True,\n",
       " 'done': True,\n",
       " 'timesteps_total': None,\n",
       " 'episodes_total': None,\n",
       " 'training_iteration': 1,\n",
       " 'trial_id': 'dc4ef_00000',\n",
       " 'experiment_id': 'cf367dc7e0d74e3d99f5bba4a91c4675',\n",
       " 'date': '2022-09-11_21-18-15',\n",
       " 'timestamp': 1662956295,\n",
       " 'time_total_s': 24.681931972503662,\n",
       " 'pid': 32106,\n",
       " 'hostname': 'GRM-MacBook-Prov.local',\n",
       " 'node_ip': '127.0.0.1',\n",
       " 'config': {},\n",
       " 'time_since_restore': 24.681931972503662,\n",
       " 'timesteps_since_restore': 0,\n",
       " 'iterations_since_restore': 1,\n",
       " 'warmup_time': 0.00244903564453125,\n",
       " 'experiment_tag': '0'}"
      ]
     },
     "execution_count": 17,
     "metadata": {},
     "output_type": "execute_result"
    }
   ],
   "source": [
    "train_result.metrics"
   ]
  },
  {
   "cell_type": "code",
   "execution_count": 18,
   "metadata": {},
   "outputs": [
    {
     "data": {
      "text/plain": [
       "Checkpoint(local_path=/Users/rgareev/ray_results/SklearnTrainer_2022-09-11_21-17-48/SklearnTrainer_dc4ef_00000_0_2022-09-11_21-17-48/checkpoint_000001)"
      ]
     },
     "execution_count": 18,
     "metadata": {},
     "output_type": "execute_result"
    }
   ],
   "source": [
    "train_result.checkpoint"
   ]
  },
  {
   "cell_type": "code",
   "execution_count": 17,
   "metadata": {},
   "outputs": [
    {
     "data": {
      "text/plain": [
       "'/Users/rgareev/projects/mlops-openfoodfacts/wrk/trainings/20220831-dev/model'"
      ]
     },
     "execution_count": 17,
     "metadata": {},
     "output_type": "execute_result"
    }
   ],
   "source": [
    "train_result.checkpoint.to_directory(OUTPUT_MODEL_PATH)"
   ]
  },
  {
   "cell_type": "code",
   "execution_count": 41,
   "metadata": {},
   "outputs": [],
   "source": [
    "# TODO register experiment metrics\n",
    "# use Ray Tune and its ray.tune.integration.mlflow.MLflowLoggerCallback"
   ]
  },
  {
   "cell_type": "code",
   "execution_count": 21,
   "metadata": {},
   "outputs": [],
   "source": [
    "checkpoint = SklearnCheckpoint.from_checkpoint(train_result.checkpoint)"
   ]
  },
  {
   "cell_type": "code",
   "execution_count": 22,
   "metadata": {},
   "outputs": [
    {
     "name": "stderr",
     "output_type": "stream",
     "text": [
      "/Users/rgareev/Library/Caches/pypoetry/virtualenvs/mlops-openfoodfacts-Txzs9Jr8-py3.9/lib/python3.9/site-packages/_distutils_hack/__init__.py:33: UserWarning: Setuptools is replacing distutils.\n",
      "  warnings.warn(\"Setuptools is replacing distutils.\")\n"
     ]
    },
    {
     "data": {
      "text/plain": [
       "ModelInfo(artifact_path='model', flavors={'python_function': {'model_path': 'model.pkl', 'loader_module': 'mlflow.sklearn', 'python_version': '3.9.12', 'env': 'conda.yaml'}, 'sklearn': {'pickled_model': 'model.pkl', 'sklearn_version': '1.1.2', 'serialization_format': 'cloudpickle', 'code': None}}, model_uri='runs:/a0652b7d994e4c38b516f674289f89b0/model', model_uuid='597a895713d340b386077740c3d67aa6', run_id='a0652b7d994e4c38b516f674289f89b0', saved_input_example_info=None, signature_dict=None, utc_time_created='2022-09-12 04:52:50.942683', mlflow_version='1.28.0')"
      ]
     },
     "execution_count": 22,
     "metadata": {},
     "output_type": "execute_result"
    }
   ],
   "source": [
    "mlflow.sklearn.log_model(\n",
    "    checkpoint.get_estimator(),\n",
    "    artifact_path = 'model')"
   ]
  },
  {
   "cell_type": "code",
   "execution_count": null,
   "metadata": {},
   "outputs": [],
   "source": []
  }
 ],
 "metadata": {
  "kernelspec": {
   "display_name": "mlops-openfoodfacts",
   "language": "python",
   "name": "mlops-openfoodfacts"
  },
  "language_info": {
   "codemirror_mode": {
    "name": "ipython",
    "version": 3
   },
   "file_extension": ".py",
   "mimetype": "text/x-python",
   "name": "python",
   "nbconvert_exporter": "python",
   "pygments_lexer": "ipython3",
   "version": "3.9.12"
  },
  "orig_nbformat": 4
 },
 "nbformat": 4,
 "nbformat_minor": 2
}
