{
 "cells": [
  {
   "cell_type": "markdown",
   "metadata": {},
   "source": [
    "# Get predictions on test"
   ]
  },
  {
   "cell_type": "code",
   "execution_count": 14,
   "metadata": {},
   "outputs": [],
   "source": [
    "from tempfile import TemporaryDirectory\n",
    "\n",
    "import ray\n",
    "from ray.train.sklearn import SklearnCheckpoint, SklearnPredictor\n",
    "from ray.train.batch_predictor import BatchPredictor\n",
    "\n",
    "import pandas as pd\n",
    "import numpy as np\n",
    "import mlflow"
   ]
  },
  {
   "cell_type": "markdown",
   "metadata": {},
   "source": [
    "## Configuration"
   ]
  },
  {
   "cell_type": "code",
   "execution_count": 2,
   "metadata": {},
   "outputs": [
    {
     "data": {
      "text/plain": [
       "<Experiment: artifact_location='mlflow-artifacts:/1', experiment_id='1', lifecycle_stage='active', name='openfoodfacts-nova-dev', tags={}>"
      ]
     },
     "execution_count": 2,
     "metadata": {},
     "output_type": "execute_result"
    }
   ],
   "source": [
    "MLFLOW_TRACKING_URI = 'http://127.0.0.1:5000'\n",
    "MLFLOW_EXPERIMENT_NAME = 'openfoodfacts-nova-dev'\n",
    "\n",
    "mlflow.set_tracking_uri(MLFLOW_TRACKING_URI)\n",
    "mlflow.set_experiment(MLFLOW_EXPERIMENT_NAME)"
   ]
  },
  {
   "cell_type": "code",
   "execution_count": 3,
   "metadata": {},
   "outputs": [
    {
     "data": {
      "text/plain": [
       "<ActiveRun: >"
      ]
     },
     "execution_count": 3,
     "metadata": {},
     "output_type": "execute_result"
    }
   ],
   "source": [
    "mlflow.start_run(run_id='a0652b7d994e4c38b516f674289f89b0')"
   ]
  },
  {
   "cell_type": "code",
   "execution_count": 4,
   "metadata": {},
   "outputs": [],
   "source": [
    "# INPUT_MODEL_PATH = '/Users/rgareev/projects/mlops-openfoodfacts/wrk/trainings/20220831-dev/model'\n",
    "INPUT_DATA_PATH = '/Users/rgareev/data/openfoodfacts/wrk/20220831-dev/test.parquet'\n",
    "# TODO this script should not deal with labels at all\n",
    "LABEL_COLUMN = 'nova_group'\n",
    "#\n",
    "OUTPUT_DATA_PATH = '/Users/rgareev/projects/mlops-openfoodfacts/wrk/testings/20220831-dev/model'"
   ]
  },
  {
   "cell_type": "markdown",
   "metadata": {},
   "source": [
    "## Script"
   ]
  },
  {
   "cell_type": "code",
   "execution_count": 5,
   "metadata": {},
   "outputs": [
    {
     "name": "stderr",
     "output_type": "stream",
     "text": [
      "2022-09-11 21:57:26,174\tINFO worker.py:1509 -- Started a local Ray instance. View the dashboard at \u001b[1m\u001b[32m127.0.0.1:8266 \u001b[39m\u001b[22m\n",
      "2022-09-11 21:57:27,033\tWARNING read_api.py:291 -- ⚠️  The number of blocks in this dataset (1) limits its parallelism to 1 concurrent tasks. This is much less than the number of available CPU slots in the cluster. Use `.repartition(n)` to increase the number of dataset blocks.\n"
     ]
    }
   ],
   "source": [
    "input_ds = ray.data.read_parquet(INPUT_DATA_PATH)"
   ]
  },
  {
   "cell_type": "code",
   "execution_count": 6,
   "metadata": {},
   "outputs": [
    {
     "data": {
      "text/plain": [
       "product_name: string\n",
       "nova_group: int8\n",
       "ingredients_list: list<item: string>\n",
       "  child 0, item: string\n",
       "code: string\n",
       "-- schema metadata --\n",
       "pandas: '{\"index_columns\": [\"code\"], \"column_indexes\": [{\"name\": null, \"f' + 684"
      ]
     },
     "execution_count": 6,
     "metadata": {},
     "output_type": "execute_result"
    }
   ],
   "source": [
    "input_ds.schema()"
   ]
  },
  {
   "cell_type": "code",
   "execution_count": 7,
   "metadata": {},
   "outputs": [
    {
     "name": "stderr",
     "output_type": "stream",
     "text": [
      "Read: 100%|██████████████████████████████████████████████████████████████████████████████████████████████████████████████████| 1/1 [00:00<00:00,  2.72it/s]\n",
      "Repartition: 100%|█████████████████████████████████████████████████████████████████████████████████████████████████████████| 10/10 [00:00<00:00, 32.02it/s]\n"
     ]
    }
   ],
   "source": [
    "input_ds = input_ds.repartition(10)"
   ]
  },
  {
   "cell_type": "code",
   "execution_count": 8,
   "metadata": {},
   "outputs": [],
   "source": [
    "from ray.data.context import DatasetContext\n",
    "\n",
    "ctx = DatasetContext.get_current()\n",
    "ctx.enable_tensor_extension_casting = False"
   ]
  },
  {
   "cell_type": "code",
   "execution_count": 9,
   "metadata": {},
   "outputs": [
    {
     "name": "stderr",
     "output_type": "stream",
     "text": [
      "Map_Batches: 100%|█████████████████████████████████████████████████████████████████████████████████████████████████████████| 10/10 [00:00<00:00, 12.61it/s]\n"
     ]
    }
   ],
   "source": [
    "input_ds = input_ds.drop_columns([LABEL_COLUMN])"
   ]
  },
  {
   "cell_type": "markdown",
   "metadata": {},
   "source": [
    "Restore model from run artifacts"
   ]
  },
  {
   "cell_type": "code",
   "execution_count": 11,
   "metadata": {},
   "outputs": [],
   "source": [
    "sk_pipe = mlflow.sklearn.load_model(f'runs:/{mlflow.active_run().info.run_id}/model')"
   ]
  },
  {
   "cell_type": "code",
   "execution_count": 15,
   "metadata": {},
   "outputs": [],
   "source": [
    "with TemporaryDirectory() as tmpdir:\n",
    "    model_checkpoint = SklearnCheckpoint.from_estimator(sk_pipe, path=tmpdir)\n",
    "    predictor = BatchPredictor(model_checkpoint, SklearnPredictor)"
   ]
  },
  {
   "cell_type": "code",
   "execution_count": 16,
   "metadata": {},
   "outputs": [
    {
     "name": "stderr",
     "output_type": "stream",
     "text": [
      "Map Progress (2 actors 1 pending): 100%|███████████████████████████████████████████████████████████████████████████████████| 10/10 [00:02<00:00,  3.91it/s]\n"
     ]
    }
   ],
   "source": [
    "# does not work\n",
    "# model_output_ds = predictor.predict(input_ds, keep_columns='code')\n",
    "model_output_ds = predictor.predict(input_ds)"
   ]
  },
  {
   "cell_type": "code",
   "execution_count": 17,
   "metadata": {},
   "outputs": [],
   "source": [
    "result_ds = ray.data.from_arrow_refs(input_ds.to_arrow_refs()).zip(\n",
    "    ray.data.from_arrow_refs(model_output_ds.to_arrow_refs()))"
   ]
  },
  {
   "cell_type": "code",
   "execution_count": 18,
   "metadata": {},
   "outputs": [
    {
     "data": {
      "text/plain": [
       "product_name: string\n",
       "ingredients_list: list<item: string>\n",
       "  child 0, item: string\n",
       "predictions: int8\n",
       "-- schema metadata --\n",
       "pandas: '{\"index_columns\": [{\"kind\": \"range\", \"name\": null, \"start\": 0, \"' + 524"
      ]
     },
     "execution_count": 18,
     "metadata": {},
     "output_type": "execute_result"
    }
   ],
   "source": [
    "result_ds.schema()"
   ]
  },
  {
   "cell_type": "code",
   "execution_count": 22,
   "metadata": {},
   "outputs": [
    {
     "name": "stderr",
     "output_type": "stream",
     "text": [
      "Write Progress: 100%|██████████████████████████████████████████████████████████████████████████████████████████████████████| 10/10 [00:00<00:00, 16.74it/s]\n"
     ]
    }
   ],
   "source": [
    "result_ds.write_parquet(OUTPUT_DATA_PATH)"
   ]
  },
  {
   "cell_type": "code",
   "execution_count": 23,
   "metadata": {},
   "outputs": [
    {
     "name": "stdout",
     "output_type": "stream",
     "text": [
      "total 17776\n",
      "drwxr-xr-x  12 rgareev  staff   384B Sep 11 22:06 \u001b[1m\u001b[36m.\u001b[m\u001b[m\n",
      "drwxr-xr-x   3 rgareev  staff    96B Sep 11 22:06 \u001b[1m\u001b[36m..\u001b[m\u001b[m\n",
      "-rw-r--r--   1 rgareev  staff   895K Sep 11 22:06 ff7876293a2f47e9b5d2602c193d6378_000000.parquet\n",
      "-rw-r--r--   1 rgareev  staff   878K Sep 11 22:06 ff7876293a2f47e9b5d2602c193d6378_000001.parquet\n",
      "-rw-r--r--   1 rgareev  staff   886K Sep 11 22:06 ff7876293a2f47e9b5d2602c193d6378_000002.parquet\n",
      "-rw-r--r--   1 rgareev  staff   890K Sep 11 22:06 ff7876293a2f47e9b5d2602c193d6378_000003.parquet\n",
      "-rw-r--r--   1 rgareev  staff   892K Sep 11 22:06 ff7876293a2f47e9b5d2602c193d6378_000004.parquet\n",
      "-rw-r--r--   1 rgareev  staff   879K Sep 11 22:06 ff7876293a2f47e9b5d2602c193d6378_000005.parquet\n",
      "-rw-r--r--   1 rgareev  staff   889K Sep 11 22:06 ff7876293a2f47e9b5d2602c193d6378_000006.parquet\n",
      "-rw-r--r--   1 rgareev  staff   896K Sep 11 22:06 ff7876293a2f47e9b5d2602c193d6378_000007.parquet\n",
      "-rw-r--r--   1 rgareev  staff   881K Sep 11 22:06 ff7876293a2f47e9b5d2602c193d6378_000008.parquet\n",
      "-rw-r--r--   1 rgareev  staff   885K Sep 11 22:06 ff7876293a2f47e9b5d2602c193d6378_000009.parquet\n"
     ]
    }
   ],
   "source": [
    "!ls -alh $OUTPUT_DATA_PATH"
   ]
  }
 ],
 "metadata": {
  "kernelspec": {
   "display_name": "mlops-openfoodfacts",
   "language": "python",
   "name": "mlops-openfoodfacts"
  },
  "language_info": {
   "codemirror_mode": {
    "name": "ipython",
    "version": 3
   },
   "file_extension": ".py",
   "mimetype": "text/x-python",
   "name": "python",
   "nbconvert_exporter": "python",
   "pygments_lexer": "ipython3",
   "version": "3.9.12"
  },
  "orig_nbformat": 4
 },
 "nbformat": 4,
 "nbformat_minor": 2
}
